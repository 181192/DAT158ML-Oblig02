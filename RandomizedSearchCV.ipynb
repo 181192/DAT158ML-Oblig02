{
 "cells": [
  {
   "cell_type": "code",
   "execution_count": 1,
   "metadata": {},
   "outputs": [
    {
     "name": "stderr",
     "output_type": "stream",
     "text": [
      "/usr/local/lib/python3.6/dist-packages/sklearn/cross_validation.py:41: DeprecationWarning: This module was deprecated in version 0.18 in favor of the model_selection module into which all the refactored classes and functions are moved. Also note that the interface of the new CV iterators are different from that of this module. This module will be removed in 0.20.\n",
      "  \"This module will be removed in 0.20.\", DeprecationWarning)\n"
     ]
    }
   ],
   "source": [
    "import pandas as pd\n",
    "import time\n",
    "import numpy as np\n",
    "from sklearn.cross_validation import train_test_split\n",
    "import xgboost as xgb\n",
    "from xgboost import XGBRegressor\n",
    "import gc"
   ]
  },
  {
   "cell_type": "code",
   "execution_count": 2,
   "metadata": {},
   "outputs": [],
   "source": [
    "traincolumns = ['ip','app', 'device', 'os', 'channel', 'click_time', 'is_attributed']\n",
    "train = pd.read_csv('datasets/train.csv',skiprows=range(1,149903891), nrows=10000000, usecols = traincolumns)\n",
    "test = pd.read_csv('datasets/test.csv')\n",
    "sub = pd.DataFrame()\n",
    "sub['click_id'] = test['click_id']\n",
    "train = train.dropna()"
   ]
  },
  {
   "cell_type": "code",
   "execution_count": 3,
   "metadata": {},
   "outputs": [],
   "source": [
    "def preprocessClicktime(df):\n",
    "    # Make some new features with click_time column\n",
    "    df[\"datetime\"] = pd.to_datetime(df['click_time'])\n",
    "    df['dow']      = df['datetime'].dt.dayofweek\n",
    "    df['woy']      = df['datetime'].dt.week\n",
    "    df['day']      = df['datetime'].dt.day\n",
    "    df['hour']     = df['datetime'].dt.hour\n",
    "    df['minute']   = df['datetime'].dt.minute\n",
    "    df['second']   = df['datetime'].dt.second\n",
    "    return df"
   ]
  },
  {
   "cell_type": "code",
   "execution_count": 4,
   "metadata": {},
   "outputs": [],
   "source": [
    "train = preprocessClicktime(train)\n",
    "train = train.drop(['click_time','datetime'],axis=1)\n",
    "test = preprocessClicktime(test)\n",
    "test = test.drop(['click_id','click_time','datetime'],axis=1)\n",
    "\n",
    "y = train['is_attributed']\n",
    "train = train.drop(['is_attributed'], axis=1)"
   ]
  },
  {
   "cell_type": "code",
   "execution_count": 5,
   "metadata": {},
   "outputs": [
    {
     "data": {
      "text/plain": [
       "276"
      ]
     },
     "execution_count": 5,
     "metadata": {},
     "output_type": "execute_result"
    }
   ],
   "source": [
    "# Some feature engineering\n",
    "nrow_train = train.shape[0]\n",
    "merge = pd.concat([train, test])\n",
    "del train, test\n",
    "gc.collect()"
   ]
  },
  {
   "cell_type": "code",
   "execution_count": 6,
   "metadata": {},
   "outputs": [],
   "source": [
    "# Count the number of clicks by ip\n",
    "ip_count = merge.groupby('ip')['app'].count().reset_index()\n",
    "ip_count.columns = ['ip', 'clicks_by_ip']\n",
    "merge = pd.merge(merge, ip_count, on='ip', how='left', sort=False)\n",
    "merge.drop('ip', axis=1, inplace=True)"
   ]
  },
  {
   "cell_type": "code",
   "execution_count": 7,
   "metadata": {},
   "outputs": [
    {
     "data": {
      "text/plain": [
       "7"
      ]
     },
     "execution_count": 7,
     "metadata": {},
     "output_type": "execute_result"
    }
   ],
   "source": [
    "train = merge[:nrow_train]\n",
    "test = merge[nrow_train:]\n",
    "del merge\n",
    "gc.collect()"
   ]
  },
  {
   "cell_type": "markdown",
   "metadata": {},
   "source": [
    "Some good defaults (you'll be better able to select settings to try once you understand how XGBoost works):"
   ]
  },
  {
   "cell_type": "code",
   "execution_count": 25,
   "metadata": {},
   "outputs": [],
   "source": [
    "xgb_param_grid = {\n",
    "        'min_child_weight': [1, 5, 10],\n",
    "        'gamma': [0.0, 1.0, 1.5],\n",
    "        'subsample': [0.6, 1.0],\n",
    "        'colsample_bytree': [0.6, 0.8, 1.0],\n",
    "        'max_depth': [5, 6, 7, 8, 10]\n",
    "        }\n",
    "\n",
    "\n",
    "xgb_param_grid_large = {\n",
    "        'learning_rate': [0.1, 0.05, 0.2],\n",
    "        'n_estimators': [50, 100, 500, 600],\n",
    "        'min_child_weight': [1, 5, 10],\n",
    "        'gamma': [0.0, 1.0, 1.5],\n",
    "        'subsample': [0.6, 1.0],\n",
    "        'colsample_bytree': [0.5, 0.6, 0.8],\n",
    "        'max_depth': [3, 4, 5, 6, 7, 8, 9, 10],\n",
    "        'reg_lambda': [1, ]\n",
    "        }\n"
   ]
  },
  {
   "cell_type": "markdown",
   "metadata": {},
   "source": [
    "Let's try them out on our regression task:"
   ]
  },
  {
   "cell_type": "code",
   "execution_count": 26,
   "metadata": {},
   "outputs": [],
   "source": [
    "# To place it on the GPU\n",
    "xgb_reg = XGBRegressor(tree_method='gpu_hist', predictor='gpu_predictor')\n",
    "# On the CPU\n",
    "#xgb_reg = XGBRegressor()"
   ]
  },
  {
   "cell_type": "code",
   "execution_count": 33,
   "metadata": {},
   "outputs": [],
   "source": [
    "from sklearn.model_selection import RandomizedSearchCV\n",
    "\n",
    "r_xgb_reg = RandomizedSearchCV(xgb_reg, xgb_param_grid_large, n_iter=10, verbose=20)"
   ]
  },
  {
   "cell_type": "code",
   "execution_count": 34,
   "metadata": {},
   "outputs": [],
   "source": [
    "X_train, X_test, y_train, y_test = train_test_split(train,y, random_state=42)"
   ]
  },
  {
   "cell_type": "code",
   "execution_count": 35,
   "metadata": {},
   "outputs": [
    {
     "name": "stdout",
     "output_type": "stream",
     "text": [
      "Fitting 3 folds for each of 10 candidates, totalling 30 fits\n",
      "[CV] subsample=1.0, reg_lambda=1, n_estimators=500, min_child_weight=1, max_depth=7, learning_rate=0.05, gamma=0.0, colsample_bytree=0.5 \n",
      "[CV]  subsample=1.0, reg_lambda=1, n_estimators=500, min_child_weight=1, max_depth=7, learning_rate=0.05, gamma=0.0, colsample_bytree=0.5, score=0.41112952659061336, total=  33.5s\n",
      "[CV] subsample=1.0, reg_lambda=1, n_estimators=500, min_child_weight=1, max_depth=7, learning_rate=0.05, gamma=0.0, colsample_bytree=0.5 \n"
     ]
    },
    {
     "name": "stderr",
     "output_type": "stream",
     "text": [
      "[Parallel(n_jobs=1)]: Done   1 out of   1 | elapsed:   35.3s remaining:    0.0s\n"
     ]
    },
    {
     "name": "stdout",
     "output_type": "stream",
     "text": [
      "[CV]  subsample=1.0, reg_lambda=1, n_estimators=500, min_child_weight=1, max_depth=7, learning_rate=0.05, gamma=0.0, colsample_bytree=0.5, score=0.41342581760577646, total=  33.3s\n",
      "[CV] subsample=1.0, reg_lambda=1, n_estimators=500, min_child_weight=1, max_depth=7, learning_rate=0.05, gamma=0.0, colsample_bytree=0.5 \n"
     ]
    },
    {
     "name": "stderr",
     "output_type": "stream",
     "text": [
      "[Parallel(n_jobs=1)]: Done   2 out of   2 | elapsed:  1.2min remaining:    0.0s\n"
     ]
    },
    {
     "name": "stdout",
     "output_type": "stream",
     "text": [
      "[CV]  subsample=1.0, reg_lambda=1, n_estimators=500, min_child_weight=1, max_depth=7, learning_rate=0.05, gamma=0.0, colsample_bytree=0.5, score=0.4154350341283367, total=  33.5s\n",
      "[CV] subsample=1.0, reg_lambda=1, n_estimators=600, min_child_weight=1, max_depth=6, learning_rate=0.05, gamma=1.0, colsample_bytree=0.8 \n"
     ]
    },
    {
     "name": "stderr",
     "output_type": "stream",
     "text": [
      "[Parallel(n_jobs=1)]: Done   3 out of   3 | elapsed:  1.8min remaining:    0.0s\n"
     ]
    },
    {
     "name": "stdout",
     "output_type": "stream",
     "text": [
      "[CV]  subsample=1.0, reg_lambda=1, n_estimators=600, min_child_weight=1, max_depth=6, learning_rate=0.05, gamma=1.0, colsample_bytree=0.8, score=0.41309925117544843, total=  34.0s\n",
      "[CV] subsample=1.0, reg_lambda=1, n_estimators=600, min_child_weight=1, max_depth=6, learning_rate=0.05, gamma=1.0, colsample_bytree=0.8 \n"
     ]
    },
    {
     "name": "stderr",
     "output_type": "stream",
     "text": [
      "[Parallel(n_jobs=1)]: Done   4 out of   4 | elapsed:  2.4min remaining:    0.0s\n"
     ]
    },
    {
     "name": "stdout",
     "output_type": "stream",
     "text": [
      "[CV]  subsample=1.0, reg_lambda=1, n_estimators=600, min_child_weight=1, max_depth=6, learning_rate=0.05, gamma=1.0, colsample_bytree=0.8, score=0.4173960811049907, total=  34.3s\n",
      "[CV] subsample=1.0, reg_lambda=1, n_estimators=600, min_child_weight=1, max_depth=6, learning_rate=0.05, gamma=1.0, colsample_bytree=0.8 \n"
     ]
    },
    {
     "name": "stderr",
     "output_type": "stream",
     "text": [
      "[Parallel(n_jobs=1)]: Done   5 out of   5 | elapsed:  3.0min remaining:    0.0s\n"
     ]
    },
    {
     "name": "stdout",
     "output_type": "stream",
     "text": [
      "[CV]  subsample=1.0, reg_lambda=1, n_estimators=600, min_child_weight=1, max_depth=6, learning_rate=0.05, gamma=1.0, colsample_bytree=0.8, score=0.418120259650414, total=  34.1s\n",
      "[CV] subsample=0.6, reg_lambda=1, n_estimators=500, min_child_weight=10, max_depth=7, learning_rate=0.1, gamma=1.5, colsample_bytree=0.6 \n"
     ]
    },
    {
     "name": "stderr",
     "output_type": "stream",
     "text": [
      "[Parallel(n_jobs=1)]: Done   6 out of   6 | elapsed:  3.6min remaining:    0.0s\n"
     ]
    },
    {
     "name": "stdout",
     "output_type": "stream",
     "text": [
      "[CV]  subsample=0.6, reg_lambda=1, n_estimators=500, min_child_weight=10, max_depth=7, learning_rate=0.1, gamma=1.5, colsample_bytree=0.6, score=0.40022754434651997, total=  30.4s\n",
      "[CV] subsample=0.6, reg_lambda=1, n_estimators=500, min_child_weight=10, max_depth=7, learning_rate=0.1, gamma=1.5, colsample_bytree=0.6 \n"
     ]
    },
    {
     "name": "stderr",
     "output_type": "stream",
     "text": [
      "[Parallel(n_jobs=1)]: Done   7 out of   7 | elapsed:  4.1min remaining:    0.0s\n"
     ]
    },
    {
     "name": "stdout",
     "output_type": "stream",
     "text": [
      "[CV]  subsample=0.6, reg_lambda=1, n_estimators=500, min_child_weight=10, max_depth=7, learning_rate=0.1, gamma=1.5, colsample_bytree=0.6, score=0.4028941475500455, total=  30.3s\n",
      "[CV] subsample=0.6, reg_lambda=1, n_estimators=500, min_child_weight=10, max_depth=7, learning_rate=0.1, gamma=1.5, colsample_bytree=0.6 \n"
     ]
    },
    {
     "name": "stderr",
     "output_type": "stream",
     "text": [
      "[Parallel(n_jobs=1)]: Done   8 out of   8 | elapsed:  4.6min remaining:    0.0s\n"
     ]
    },
    {
     "name": "stdout",
     "output_type": "stream",
     "text": [
      "[CV]  subsample=0.6, reg_lambda=1, n_estimators=500, min_child_weight=10, max_depth=7, learning_rate=0.1, gamma=1.5, colsample_bytree=0.6, score=0.4038258402460403, total=  30.5s\n",
      "[CV] subsample=0.6, reg_lambda=1, n_estimators=500, min_child_weight=1, max_depth=9, learning_rate=0.1, gamma=1.5, colsample_bytree=0.6 \n"
     ]
    },
    {
     "name": "stderr",
     "output_type": "stream",
     "text": [
      "[Parallel(n_jobs=1)]: Done   9 out of   9 | elapsed:  5.2min remaining:    0.0s\n"
     ]
    },
    {
     "name": "stdout",
     "output_type": "stream",
     "text": [
      "[CV]  subsample=0.6, reg_lambda=1, n_estimators=500, min_child_weight=1, max_depth=9, learning_rate=0.1, gamma=1.5, colsample_bytree=0.6, score=0.3741123670079538, total=  45.8s\n",
      "[CV] subsample=0.6, reg_lambda=1, n_estimators=500, min_child_weight=1, max_depth=9, learning_rate=0.1, gamma=1.5, colsample_bytree=0.6 \n"
     ]
    },
    {
     "name": "stderr",
     "output_type": "stream",
     "text": [
      "[Parallel(n_jobs=1)]: Done  10 out of  10 | elapsed:  6.0min remaining:    0.0s\n"
     ]
    },
    {
     "name": "stdout",
     "output_type": "stream",
     "text": [
      "[CV]  subsample=0.6, reg_lambda=1, n_estimators=500, min_child_weight=1, max_depth=9, learning_rate=0.1, gamma=1.5, colsample_bytree=0.6, score=0.3811332222459698, total=  45.1s\n",
      "[CV] subsample=0.6, reg_lambda=1, n_estimators=500, min_child_weight=1, max_depth=9, learning_rate=0.1, gamma=1.5, colsample_bytree=0.6 \n"
     ]
    },
    {
     "name": "stderr",
     "output_type": "stream",
     "text": [
      "[Parallel(n_jobs=1)]: Done  11 out of  11 | elapsed:  6.8min remaining:    0.0s\n"
     ]
    },
    {
     "name": "stdout",
     "output_type": "stream",
     "text": [
      "[CV]  subsample=0.6, reg_lambda=1, n_estimators=500, min_child_weight=1, max_depth=9, learning_rate=0.1, gamma=1.5, colsample_bytree=0.6, score=0.3837608439174919, total=  45.8s\n",
      "[CV] subsample=0.6, reg_lambda=1, n_estimators=100, min_child_weight=5, max_depth=4, learning_rate=0.2, gamma=1.0, colsample_bytree=0.6 \n"
     ]
    },
    {
     "name": "stderr",
     "output_type": "stream",
     "text": [
      "[Parallel(n_jobs=1)]: Done  12 out of  12 | elapsed:  7.5min remaining:    0.0s\n"
     ]
    },
    {
     "name": "stdout",
     "output_type": "stream",
     "text": [
      "[CV]  subsample=0.6, reg_lambda=1, n_estimators=100, min_child_weight=5, max_depth=4, learning_rate=0.2, gamma=1.0, colsample_bytree=0.6, score=0.37849848097867056, total=   7.2s\n",
      "[CV] subsample=0.6, reg_lambda=1, n_estimators=100, min_child_weight=5, max_depth=4, learning_rate=0.2, gamma=1.0, colsample_bytree=0.6 \n"
     ]
    },
    {
     "name": "stderr",
     "output_type": "stream",
     "text": [
      "[Parallel(n_jobs=1)]: Done  13 out of  13 | elapsed:  7.7min remaining:    0.0s\n"
     ]
    },
    {
     "name": "stdout",
     "output_type": "stream",
     "text": [
      "[CV]  subsample=0.6, reg_lambda=1, n_estimators=100, min_child_weight=5, max_depth=4, learning_rate=0.2, gamma=1.0, colsample_bytree=0.6, score=0.3806196655007582, total=   7.3s\n",
      "[CV] subsample=0.6, reg_lambda=1, n_estimators=100, min_child_weight=5, max_depth=4, learning_rate=0.2, gamma=1.0, colsample_bytree=0.6 \n"
     ]
    },
    {
     "name": "stderr",
     "output_type": "stream",
     "text": [
      "[Parallel(n_jobs=1)]: Done  14 out of  14 | elapsed:  7.8min remaining:    0.0s\n"
     ]
    },
    {
     "name": "stdout",
     "output_type": "stream",
     "text": [
      "[CV]  subsample=0.6, reg_lambda=1, n_estimators=100, min_child_weight=5, max_depth=4, learning_rate=0.2, gamma=1.0, colsample_bytree=0.6, score=0.3793501117627993, total=   7.2s\n",
      "[CV] subsample=0.6, reg_lambda=1, n_estimators=600, min_child_weight=1, max_depth=7, learning_rate=0.1, gamma=0.0, colsample_bytree=0.5 \n"
     ]
    },
    {
     "name": "stderr",
     "output_type": "stream",
     "text": [
      "[Parallel(n_jobs=1)]: Done  15 out of  15 | elapsed:  8.0min remaining:    0.0s\n"
     ]
    },
    {
     "name": "stdout",
     "output_type": "stream",
     "text": [
      "[CV]  subsample=0.6, reg_lambda=1, n_estimators=600, min_child_weight=1, max_depth=7, learning_rate=0.1, gamma=0.0, colsample_bytree=0.5, score=0.39703099278891246, total=  38.6s\n",
      "[CV] subsample=0.6, reg_lambda=1, n_estimators=600, min_child_weight=1, max_depth=7, learning_rate=0.1, gamma=0.0, colsample_bytree=0.5 \n"
     ]
    },
    {
     "name": "stderr",
     "output_type": "stream",
     "text": [
      "[Parallel(n_jobs=1)]: Done  16 out of  16 | elapsed:  8.7min remaining:    0.0s\n"
     ]
    },
    {
     "name": "stdout",
     "output_type": "stream",
     "text": [
      "[CV]  subsample=0.6, reg_lambda=1, n_estimators=600, min_child_weight=1, max_depth=7, learning_rate=0.1, gamma=0.0, colsample_bytree=0.5, score=0.40048964450714086, total=  38.3s\n",
      "[CV] subsample=0.6, reg_lambda=1, n_estimators=600, min_child_weight=1, max_depth=7, learning_rate=0.1, gamma=0.0, colsample_bytree=0.5 \n"
     ]
    },
    {
     "name": "stderr",
     "output_type": "stream",
     "text": [
      "[Parallel(n_jobs=1)]: Done  17 out of  17 | elapsed:  9.3min remaining:    0.0s\n"
     ]
    },
    {
     "name": "stdout",
     "output_type": "stream",
     "text": [
      "[CV]  subsample=0.6, reg_lambda=1, n_estimators=600, min_child_weight=1, max_depth=7, learning_rate=0.1, gamma=0.0, colsample_bytree=0.5, score=0.4005689818252508, total=  38.4s\n",
      "[CV] subsample=0.6, reg_lambda=1, n_estimators=600, min_child_weight=5, max_depth=7, learning_rate=0.1, gamma=0.0, colsample_bytree=0.6 \n"
     ]
    },
    {
     "name": "stderr",
     "output_type": "stream",
     "text": [
      "[Parallel(n_jobs=1)]: Done  18 out of  18 | elapsed: 10.0min remaining:    0.0s\n"
     ]
    },
    {
     "name": "stdout",
     "output_type": "stream",
     "text": [
      "[CV]  subsample=0.6, reg_lambda=1, n_estimators=600, min_child_weight=5, max_depth=7, learning_rate=0.1, gamma=0.0, colsample_bytree=0.6, score=0.39621380924854843, total=  36.8s\n",
      "[CV] subsample=0.6, reg_lambda=1, n_estimators=600, min_child_weight=5, max_depth=7, learning_rate=0.1, gamma=0.0, colsample_bytree=0.6 \n"
     ]
    },
    {
     "name": "stderr",
     "output_type": "stream",
     "text": [
      "[Parallel(n_jobs=1)]: Done  19 out of  19 | elapsed: 10.6min remaining:    0.0s\n"
     ]
    },
    {
     "name": "stdout",
     "output_type": "stream",
     "text": [
      "[CV]  subsample=0.6, reg_lambda=1, n_estimators=600, min_child_weight=5, max_depth=7, learning_rate=0.1, gamma=0.0, colsample_bytree=0.6, score=0.3995179023530553, total=  36.5s\n",
      "[CV] subsample=0.6, reg_lambda=1, n_estimators=600, min_child_weight=5, max_depth=7, learning_rate=0.1, gamma=0.0, colsample_bytree=0.6 \n",
      "[CV]  subsample=0.6, reg_lambda=1, n_estimators=600, min_child_weight=5, max_depth=7, learning_rate=0.1, gamma=0.0, colsample_bytree=0.6, score=0.4012588147558674, total=  36.9s\n",
      "[CV] subsample=0.6, reg_lambda=1, n_estimators=500, min_child_weight=5, max_depth=8, learning_rate=0.05, gamma=0.0, colsample_bytree=0.8 \n",
      "[CV]  subsample=0.6, reg_lambda=1, n_estimators=500, min_child_weight=5, max_depth=8, learning_rate=0.05, gamma=0.0, colsample_bytree=0.8, score=0.3996384795930832, total=  34.3s\n",
      "[CV] subsample=0.6, reg_lambda=1, n_estimators=500, min_child_weight=5, max_depth=8, learning_rate=0.05, gamma=0.0, colsample_bytree=0.8 \n",
      "[CV]  subsample=0.6, reg_lambda=1, n_estimators=500, min_child_weight=5, max_depth=8, learning_rate=0.05, gamma=0.0, colsample_bytree=0.8, score=0.40571124206808207, total=  34.1s\n",
      "[CV] subsample=0.6, reg_lambda=1, n_estimators=500, min_child_weight=5, max_depth=8, learning_rate=0.05, gamma=0.0, colsample_bytree=0.8 \n",
      "[CV]  subsample=0.6, reg_lambda=1, n_estimators=500, min_child_weight=5, max_depth=8, learning_rate=0.05, gamma=0.0, colsample_bytree=0.8, score=0.4055923868748341, total=  34.5s\n",
      "[CV] subsample=0.6, reg_lambda=1, n_estimators=100, min_child_weight=10, max_depth=4, learning_rate=0.1, gamma=0.0, colsample_bytree=0.6 \n",
      "[CV]  subsample=0.6, reg_lambda=1, n_estimators=100, min_child_weight=10, max_depth=4, learning_rate=0.1, gamma=0.0, colsample_bytree=0.6, score=0.3665975252535852, total=   7.2s\n",
      "[CV] subsample=0.6, reg_lambda=1, n_estimators=100, min_child_weight=10, max_depth=4, learning_rate=0.1, gamma=0.0, colsample_bytree=0.6 \n",
      "[CV]  subsample=0.6, reg_lambda=1, n_estimators=100, min_child_weight=10, max_depth=4, learning_rate=0.1, gamma=0.0, colsample_bytree=0.6, score=0.3649551306691241, total=   7.2s\n",
      "[CV] subsample=0.6, reg_lambda=1, n_estimators=100, min_child_weight=10, max_depth=4, learning_rate=0.1, gamma=0.0, colsample_bytree=0.6 \n",
      "[CV]  subsample=0.6, reg_lambda=1, n_estimators=100, min_child_weight=10, max_depth=4, learning_rate=0.1, gamma=0.0, colsample_bytree=0.6, score=0.3635681311143612, total=   7.2s\n",
      "[CV] subsample=1.0, reg_lambda=1, n_estimators=50, min_child_weight=1, max_depth=4, learning_rate=0.1, gamma=1.0, colsample_bytree=0.8 \n",
      "[CV]  subsample=1.0, reg_lambda=1, n_estimators=50, min_child_weight=1, max_depth=4, learning_rate=0.1, gamma=1.0, colsample_bytree=0.8, score=0.3403019632505943, total=   5.1s\n",
      "[CV] subsample=1.0, reg_lambda=1, n_estimators=50, min_child_weight=1, max_depth=4, learning_rate=0.1, gamma=1.0, colsample_bytree=0.8 \n",
      "[CV]  subsample=1.0, reg_lambda=1, n_estimators=50, min_child_weight=1, max_depth=4, learning_rate=0.1, gamma=1.0, colsample_bytree=0.8, score=0.34334775701454334, total=   5.1s\n",
      "[CV] subsample=1.0, reg_lambda=1, n_estimators=50, min_child_weight=1, max_depth=4, learning_rate=0.1, gamma=1.0, colsample_bytree=0.8 \n",
      "[CV]  subsample=1.0, reg_lambda=1, n_estimators=50, min_child_weight=1, max_depth=4, learning_rate=0.1, gamma=1.0, colsample_bytree=0.8, score=0.34264211635132125, total=   5.0s\n"
     ]
    },
    {
     "name": "stderr",
     "output_type": "stream",
     "text": [
      "[Parallel(n_jobs=1)]: Done  30 out of  30 | elapsed: 14.5min finished\n"
     ]
    },
    {
     "data": {
      "text/plain": [
       "RandomizedSearchCV(cv=None, error_score='raise',\n",
       "          estimator=XGBRegressor(base_score=0.5, booster='gbtree', colsample_bylevel=1,\n",
       "       colsample_bytree=1, gamma=0, learning_rate=0.1, max_delta_step=0,\n",
       "       max_depth=3, min_child_weight=1, missing=None, n_estimators=100,\n",
       "       n_jobs=1, nthread=None, objective='reg:linear',\n",
       "       predictor='gpu_predictor', random_state=0, reg_alpha=0,\n",
       "       reg_lambda=1, scale_pos_weight=1, seed=None, silent=True,\n",
       "       subsample=1, tree_method='gpu_hist'),\n",
       "          fit_params=None, iid=True, n_iter=10, n_jobs=1,\n",
       "          param_distributions={'learning_rate': [0.1, 0.05, 0.2], 'n_estimators': [50, 100, 500, 600], 'min_child_weight': [1, 5, 10], 'gamma': [0.0, 1.0, 1.5], 'subsample': [0.6, 1.0], 'colsample_bytree': [0.5, 0.6, 0.8], 'max_depth': [3, 4, 5, 6, 7, 8, 9, 10], 'reg_lambda': [1]},\n",
       "          pre_dispatch='2*n_jobs', random_state=None, refit=True,\n",
       "          return_train_score='warn', scoring=None, verbose=20)"
      ]
     },
     "execution_count": 35,
     "metadata": {},
     "output_type": "execute_result"
    }
   ],
   "source": [
    "r_xgb_reg.fit(X_train, y_train)"
   ]
  },
  {
   "cell_type": "code",
   "execution_count": 36,
   "metadata": {},
   "outputs": [
    {
     "data": {
      "text/plain": [
       "XGBRegressor(base_score=0.5, booster='gbtree', colsample_bylevel=1,\n",
       "       colsample_bytree=0.8, gamma=1.0, learning_rate=0.05,\n",
       "       max_delta_step=0, max_depth=6, min_child_weight=1, missing=None,\n",
       "       n_estimators=600, n_jobs=1, nthread=None, objective='reg:linear',\n",
       "       predictor='gpu_predictor', random_state=0, reg_alpha=0,\n",
       "       reg_lambda=1, scale_pos_weight=1, seed=None, silent=True,\n",
       "       subsample=1.0, tree_method='gpu_hist')"
      ]
     },
     "execution_count": 36,
     "metadata": {},
     "output_type": "execute_result"
    }
   ],
   "source": [
    "r_xgb_reg.best_estimator_"
   ]
  },
  {
   "cell_type": "code",
   "execution_count": 37,
   "metadata": {},
   "outputs": [
    {
     "data": {
      "text/plain": [
       "0.41581337166763044"
      ]
     },
     "execution_count": 37,
     "metadata": {},
     "output_type": "execute_result"
    }
   ],
   "source": [
    "r_xgb_reg.score(X_test, y_test)"
   ]
  },
  {
   "cell_type": "code",
   "execution_count": 40,
   "metadata": {},
   "outputs": [],
   "source": [
    "xgb_reg = r_xgb_reg.best_estimator_"
   ]
  },
  {
   "cell_type": "code",
   "execution_count": 41,
   "metadata": {},
   "outputs": [],
   "source": [
    "xgb_reg.save_model('0001.model')"
   ]
  },
  {
   "cell_type": "code",
   "execution_count": 43,
   "metadata": {},
   "outputs": [],
   "source": [
    "bst = xgb.Booster({'nthread': 4})  # init model\n",
    "bst.load_model('0001.model')  # load data"
   ]
  },
  {
   "cell_type": "code",
   "execution_count": 86,
   "metadata": {},
   "outputs": [],
   "source": [
    "xgtest = xgb.DMatrix(test.values)"
   ]
  },
  {
   "cell_type": "code",
   "execution_count": 88,
   "metadata": {},
   "outputs": [],
   "source": [
    "bst.predict(xgtest)"
   ]
  },
  {
   "cell_type": "code",
   "execution_count": null,
   "metadata": {},
   "outputs": [],
   "source": []
  }
 ],
 "metadata": {
  "kernelspec": {
   "display_name": "Python 3",
   "language": "python",
   "name": "python3"
  },
  "language_info": {
   "codemirror_mode": {
    "name": "ipython",
    "version": 3
   },
   "file_extension": ".py",
   "mimetype": "text/x-python",
   "name": "python",
   "nbconvert_exporter": "python",
   "pygments_lexer": "ipython3",
   "version": "3.6.6"
  }
 },
 "nbformat": 4,
 "nbformat_minor": 2
}
