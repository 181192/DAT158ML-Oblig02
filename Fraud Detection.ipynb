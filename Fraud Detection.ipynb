{
 "cells": [
  {
   "cell_type": "markdown",
   "metadata": {},
   "source": [
    "# TalkingData AdTracking Fraud Detection Challenge"
   ]
  },
  {
   "cell_type": "markdown",
   "metadata": {},
   "source": [
    "Fraud risk is everywhere, but for companies that advertise online, click fraud can happen at an overwhelming volume, resulting in misleading click data and wasted money. Ad channels can drive up costs by simply clicking on the ad at a large scale. With over 1 billion smart mobile devices in active use every month, China is the largest mobile market in the world and therefore suffers from huge volumes of fradulent traffic.\n",
    "\n",
    "TalkingData, China’s largest independent big data service platform, covers over 70% of active mobile devices nationwide. They handle 3 billion clicks per day, of which 90% are potentially fraudulent. Their current approach to prevent click fraud for app developers is to measure the journey of a user’s click across their portfolio, and flag IP addresses who produce lots of clicks, but never end up installing apps. With this information, they've built an IP blacklist and device blacklist.\n",
    "\n",
    "While successful, they want to always be one step ahead of fraudsters and have turned to the Kaggle community for help in further developing their solution. In their 2nd competition with Kaggle, you’re challenged to build an algorithm that predicts whether a user will download an app after clicking a mobile app ad. To support your modeling, they have provided a generous dataset covering approximately 200 million clicks over 4 days!\n",
    "\n",
    "Link to the kaggle competition [https://www.kaggle.com/c/talkingdata-adtracking-fraud-detection](https://www.kaggle.com/c/talkingdata-adtracking-fraud-detection)"
   ]
  },
  {
   "cell_type": "markdown",
   "metadata": {},
   "source": [
    "# Refrences"
   ]
  },
  {
   "cell_type": "markdown",
   "metadata": {},
   "source": [
    "- [yuliagm](https://www.kaggle.com/yuliagm/talkingdata-eda-plus-time-patterns) Discovering time patterns, nice graphs, no models\n",
    "- [tetyanayatsenko](https://www.kaggle.com/tetyanayatsenko/prepare-data-form-features-find-their-importance) Prepare data, form features, find features importance\n",
    "- [antmarakis](https://www.kaggle.com/antmarakis/calculating-and-plotting-auc-score) Calculating and plotting AUC score\n",
    "- [machinelearningmastery](https://machinelearningmastery.com/avoid-overfitting-by-early-stopping-with-xgboost-in-python/) Avoid overfitting by early stopping with xgboost\n",
    "- [trian2018](https://www.kaggle.com/trian2018/understand-competition-metric-auc-probabilities) Metric AUC probabilities\n",
    "- [kimkartavyavimudh](https://github.com/kimkartavyavimudh/Kaggle-TalkingData/blob/master/Exploration%2Bon%2BFull%2BSet.ipynb) Exploration on Full Set\n",
    "- [nanomathias](https://www.kaggle.com/nanomathias/feature-engineering-importance-testing) Feature Engineering importance testing\n",
    "- [andymarsden100](https://www.kaggle.com/andymarsden100/getting-started) Getting started\n",
    "- [swethaboga](https://www.kaggle.com/swethaboga/xgboost-approx-tree-method) XGBoost Approx Tree Method\n",
    "\n",
    "\n",
    "- [curiousily](https://medium.com/@curiousily/credit-card-fraud-detection-using-autoencoders-in-keras-tensorflow-for-hackers-part-vii-20e0c85301bd) Credit fraud with autoencoders"
   ]
  },
  {
   "cell_type": "markdown",
   "metadata": {
    "heading_collapsed": true
   },
   "source": [
    "# Comments / Thoughs "
   ]
  },
  {
   "cell_type": "markdown",
   "metadata": {
    "hidden": true
   },
   "source": [
    "The IP addresses is encoded, because of data protection. Also looking at IP location is a bad idea because of the same IP doesn't mean it is from the same user. Especially if this is mobile operator. Most IP are shared, your phone most likely behind several (layered) NAT before its address exposed to internet.\n",
    "[See here](https://www.kaggle.com/c/talkingdata-adtracking-fraud-detection/discussion/51650)\n",
    "\n",
    "But a user may be defined with a combination of IP, Device and OS\n",
    "\n",
    "IP address did have a lot of nearness information. But we prefer kagglers to build a model without nearness information, because in China, IP address is highly unstable, user's IP can vary from time to time. [See more](https://www.kaggle.com/c/talkingdata-adtracking-fraud-detection/discussion/51348)"
   ]
  },
  {
   "cell_type": "markdown",
   "metadata": {
    "heading_collapsed": true
   },
   "source": [
    "# Working with big dataset on 16GB RAM"
   ]
  },
  {
   "cell_type": "markdown",
   "metadata": {
    "hidden": true
   },
   "source": [
    "While working with largeee dataset as in this assignment with close to 200 millions data points we need to be smart with how me manage our data in the memory. While I have a MSI GS63VR laptop with i7-7700HQ, Nvidia GTX 1060 and 16GB RAM, that is a pretty high-end computer, 16GB RAM won't be enough to not overloading allocated RAM while working on the dataset.\n",
    "\n",
    "After a couple hours on google and stackoverflow I came a cross [this notebook](https://www.kaggle.com/yuliagm/how-to-work-with-big-datasets-on-16g-ram-dask) that actually was published on the TalkingData AdTracking Fraud Detection Challenge that I'm working on in this assigment. The notebook contains 7 pro-tip on how to work on bigdata with limited resources.\n",
    "\n",
    "- Tip 1 - Deleting unused variables and gc.collect()\n",
    "- Tip 2 - Presetting the datatypes\n",
    "- Tip 3 - Importing selected rows of a csv file\n",
    "- Tip 4 - Importing in batches and processing each individually\n",
    "- Tip 5 - Importing just selected columns\n",
    "- Tip 6 - Creative data processing\n",
    "- Tip 7 - Using Dask or Pandas on Ray"
   ]
  },
  {
   "cell_type": "markdown",
   "metadata": {
    "heading_collapsed": true,
    "hidden": true
   },
   "source": [
    "## Tip 1 - Deleting unused variables and gc.collect()"
   ]
  },
  {
   "cell_type": "markdown",
   "metadata": {
    "hidden": true
   },
   "source": [
    "Python do have a nice garbage collector. But while working on huge dataset you can clean up the memory by deleting unused temporary variables.\n",
    "For example if you have a variable `only_used_once` you can delete it by `del only_used_once`.\n",
    "But even after deleting the variable there could be residual memory, so by using the garbage collector manually by importing it in the top of your project with `import gc`, you can call `gc.collect()` every time you want to free up some memory."
   ]
  },
  {
   "cell_type": "markdown",
   "metadata": {
    "heading_collapsed": true,
    "hidden": true
   },
   "source": [
    "## Tip 2 - Presetting the datatypes"
   ]
  },
  {
   "cell_type": "markdown",
   "metadata": {
    "hidden": true
   },
   "source": [
    "With pandas `read_csv` python will try to guess what datatype you are trying to load in to the memory. By defining the datatypes before importing, you can avoid that python is allocating more space than it needs to. Because Python will do that by default to avoid errors.\n",
    "```python\n",
    "dtypes = {\n",
    "        'ip'            : 'uint32',\n",
    "        'app'           : 'uint16',\n",
    "        'device'        : 'uint16',\n",
    "        'os'            : 'uint16',\n",
    "        'channel'       : 'uint16',\n",
    "        'is_attributed' : 'uint8',\n",
    "        }\n",
    "\n",
    "train = pd.read_csv('train.csv', dtype=dtypes)\n",
    "```"
   ]
  },
  {
   "cell_type": "markdown",
   "metadata": {
    "heading_collapsed": true,
    "hidden": true
   },
   "source": [
    "## Tip 3 - Importing selected rows of a csv file"
   ]
  },
  {
   "cell_type": "markdown",
   "metadata": {
    "hidden": true
   },
   "source": [
    "Importing 200 millions rows at once will allocate almost all the memory on my computer, by selecting a specified number of rows to import we can avoid that. Then we can do our analyse and look at the data before we go on to analyse the whole dataset.\n",
    "```python\n",
    "X_train = pd.read_csv('train.csv', nrows=10000)\n",
    "```\n",
    "We can also skip rows, the reason we may do that is to look at other ranges in the dataset. By specifing `skiprows=range(1, 500000)` we can skip the first 500 000 rows in the data set. and by using range we still can keep the first row as our headings.\n",
    "\n",
    "By using the `skiprows` we can also generate our own random sampling. \n",
    "\n",
    "```python\n",
    "#generate list of lines to skip\n",
    "skiplines = np.random.choice(np.arange(1, lines), size=lines-1-1000000, replace=False)\n",
    "\n",
    "#sort the list\n",
    "skiplines=np.sort(skiplines)\n",
    "\n",
    "# Import the randomly selected 1 million rows\n",
    "train = pd.read_csv('../input/train.csv', skiprows=skiplines, dtype=dtypes)\n",
    "\n",
    "# Delete useless `skipline` list and free up memory\n",
    "del skiplines\n",
    "gc.collect()\n",
    "```"
   ]
  },
  {
   "cell_type": "markdown",
   "metadata": {
    "heading_collapsed": true,
    "hidden": true
   },
   "source": [
    "## Tip 4 - Importing on batches and processing each individually"
   ]
  },
  {
   "cell_type": "markdown",
   "metadata": {
    "hidden": true
   },
   "source": [
    "When we want to analyse or do some processing on the whole dataset we can't get it into the memory without over allocation the memory. A solution to that is to do the work in batches. We use chunk's of data, that we specify the size of. We then do some work on each chunk util there are no more chunk's left. Then we have worked over the whole dataset.\n",
    "\n",
    "The example under is for analyzing the `is_attributed` attribute. We loop through the dataset chunk by chunk and then we can filter out the clicks that was attributed (`is_attributed==1` => the app was downloaded) into a separate dataframe for futher inspection.\n",
    "\n",
    "```python\n",
    "#set up an empty dataframe\n",
    "df_converted = pd.DataFrame()\n",
    "\n",
    "#we are going to work with chunks of size 1 million rows\n",
    "chunksize = 10 ** 6\n",
    "\n",
    "#in each chunk, filter for values that have 'is_attributed'==1, and merge these values into one dataframe\n",
    "for chunk in pd.read_csv('train.csv', chunksize=chunksize, dtype=dtypes):\n",
    "    filtered = (chunk[(np.where(chunk['is_attributed']==1, True, False))])\n",
    "    df_converted = pd.concat([df_converted, filtered], ignore_index=True, )\n",
    "\n",
    "```\n",
    "\n",
    "We can then run `df_converted.info()` to see that there is `x` entries for when the app was downloaded.\n"
   ]
  },
  {
   "cell_type": "markdown",
   "metadata": {
    "heading_collapsed": true,
    "hidden": true
   },
   "source": [
    "## Tip 5 - Importing just selected columns"
   ]
  },
  {
   "cell_type": "markdown",
   "metadata": {
    "hidden": true
   },
   "source": [
    "Importing just two fields instead of the whole table is a much better approach for optimalizating the memory allocation. By using the `usecols` in `read_csv` we can achieve that.\n",
    "\n",
    "```python\n",
    "#wanted columns\n",
    "columns = ['ip', 'click_time', 'is_attributed']\n",
    "dtypes = {\n",
    "        'ip'            : 'uint32',\n",
    "        'is_attributed' : 'uint8',\n",
    "        }\n",
    "\n",
    "ips_df = pd.read_csv('train.csv', usecols=columns, dtype=dtypes)\n",
    "```"
   ]
  },
  {
   "cell_type": "markdown",
   "metadata": {
    "heading_collapsed": true,
    "hidden": true
   },
   "source": [
    "## Tip 6 - Creative data processing"
   ]
  },
  {
   "cell_type": "markdown",
   "metadata": {
    "hidden": true
   },
   "source": [
    "The kernel cannot handle groupby on the whole dataframe, But it can do it in sections. So we can calculate counts in batches, merge them and sum up to total counts.\n",
    "\n",
    "```python\n",
    "size=100000\n",
    "all_rows = len(ips_df)\n",
    "num_parts = all_rows//size\n",
    "\n",
    "#generate the first batch\n",
    "ip_counts = ips_df[0:size][['ip', 'is_attributed']].groupby('ip', as_index=False).count()\n",
    "\n",
    "#add remaining batches\n",
    "for p in range(1,num_parts):\n",
    "    start = p*size\n",
    "    end = p*size + size\n",
    "    if end < all_rows:\n",
    "        group = ips_df[start:end][['ip', 'is_attributed']].groupby('ip', as_index=False).count()\n",
    "    else:\n",
    "        group = ips_df[start:][['ip', 'is_attributed']].groupby('ip', as_index=False).count()\n",
    "    ip_counts = ip_counts.merge(group, on='ip', how='outer')\n",
    "    ip_counts.columns = ['ip', 'count1','count2']\n",
    "    ip_counts['counts'] = np.nansum((ip_counts['count1'], ip_counts['count2']), axis = 0)\n",
    "    ip_counts.drop(columns=['count1', 'count2'], axis = 0, inplace=True)\n",
    "```\n"
   ]
  },
  {
   "cell_type": "markdown",
   "metadata": {
    "heading_collapsed": true,
    "hidden": true
   },
   "source": [
    "## Tip 7 - Using Dask or Pandas on Ray"
   ]
  },
  {
   "cell_type": "markdown",
   "metadata": {
    "hidden": true
   },
   "source": [
    "With Dask you will need to change the code. But with Ray you can use it as normal Pandas.\n",
    "- [Dask - Dataframe](http://docs.dask.org/en/latest/dataframe.html)\n",
    "- [Modin - Dataframe](https://github.com/modin-project/modin)\n",
    "\n",
    "Example with Padas on Ray:\n",
    "```python\n",
    "#import pandas as pd\n",
    "import modin.pandas as pd\n",
    "train = pd.read_csv(train.csv)\n",
    "```"
   ]
  },
  {
   "cell_type": "markdown",
   "metadata": {},
   "source": [
    "# Setup"
   ]
  },
  {
   "cell_type": "code",
   "execution_count": 35,
   "metadata": {},
   "outputs": [],
   "source": [
    "# To suppress some warnings below. Nothing important, just to make some outputs cleaner.\n",
    "import warnings\n",
    "warnings.simplefilter(action='ignore', category=FutureWarning)\n",
    "warnings.simplefilter(action='ignore', category=DeprecationWarning)"
   ]
  },
  {
   "cell_type": "code",
   "execution_count": 36,
   "metadata": {},
   "outputs": [],
   "source": [
    "# To automatically reload modules defined in external files.\n",
    "%reload_ext autoreload\n",
    "%autoreload 2\n",
    "\n",
    "# To display plots directly in the notebook:\n",
    "%matplotlib inline"
   ]
  },
  {
   "cell_type": "code",
   "execution_count": 37,
   "metadata": {},
   "outputs": [],
   "source": [
    "import gc\n",
    "import subprocess\n",
    "import os.path\n",
    "import shutil\n",
    "import zipfile\n",
    "\n",
    "import matplotlib\n",
    "import sklearn\n",
    "import numpy as np\n",
    "import matplotlib.pyplot as plt\n",
    "\n",
    "from sklearn.model_selection import train_test_split\n",
    "from sklearn.ensemble import RandomForestClassifier\n",
    "from sklearn.metrics import roc_auc_score\n",
    "from collections import Counter"
   ]
  },
  {
   "cell_type": "code",
   "execution_count": 38,
   "metadata": {},
   "outputs": [],
   "source": [
    "import pandas as pd\n",
    "\n",
    "# Using modin for parallell pandas\n",
    "# import modin.pandas as pd"
   ]
  },
  {
   "cell_type": "code",
   "execution_count": 39,
   "metadata": {},
   "outputs": [],
   "source": [
    "# To make the notebook reproducible\n",
    "seed = 42\n",
    "np.random.seed(seed)"
   ]
  },
  {
   "cell_type": "markdown",
   "metadata": {},
   "source": [
    "# Get the data"
   ]
  },
  {
   "cell_type": "markdown",
   "metadata": {},
   "source": [
    "To get the data we can use several methods. I'm going to use the Kaggle API to download the datasets from the competition.\n",
    "\n",
    "After I have downloaded the datasets, they are in zip archives, so I need to extract the files using the ZipFile library.\n",
    "\n",
    "The kaggle API is checking it the files is already dowloaded and will only re-download the files if they are outdated.\n",
    "\n",
    "Then I made a simple function to check if the train.csv is already present, if not then I need to extract it from the archive."
   ]
  },
  {
   "cell_type": "code",
   "execution_count": 40,
   "metadata": {},
   "outputs": [
    {
     "name": "stdout",
     "output_type": "stream",
     "text": [
      "train.csv.zip: Skipping, found more recently modified local copy (use --force to force download)\n",
      "train_sample.csv.zip: Skipping, found more recently modified local copy (use --force to force download)\n",
      "test.csv.zip: Skipping, found more recently modified local copy (use --force to force download)\n",
      "sample_submission.csv.zip: Skipping, found more recently modified local copy (use --force to force download)\n",
      "test_supplement.csv.zip: Skipping, found more recently modified local copy (use --force to force download)\n"
     ]
    }
   ],
   "source": [
    "import kaggle\n",
    "\n",
    "!kaggle competitions download -c talkingdata-adtracking-fraud-detection -p datasets"
   ]
  },
  {
   "cell_type": "code",
   "execution_count": 41,
   "metadata": {},
   "outputs": [],
   "source": [
    "def get_train_csv():\n",
    "    # Check if train.csv allready exists\n",
    "    if os.path.isfile(\"datasets/train.csv\"):\n",
    "        print(\"Train.csv already exists skipping..\")\n",
    "    else:\n",
    "        # Check if train.csv.zip exists, then unzip and move the content to datasets folder\n",
    "        print(\"Train.csv does not exists in datasets\")\n",
    "        if os.path.isfile(\"datasets/train.csv.zip\"):\n",
    "            print(\"Extracting train.csv.zip...\")\n",
    "            with zipfile.ZipFile(\"datasets/train.csv.zip\",\"r\") as zip_ref:\n",
    "                zip_ref.extractall(\"datasets\")\n",
    "\n",
    "            print(\"Moving train.csv to datasets/train.csv\")\n",
    "            os.rename(\"datasets/mnt/ssd/kaggle-talkingdata2/competition_files/train.csv\", \"datasets/train.csv\")\n",
    "            shutil.rmtree('datasets/mnt', ignore_errors=True)\n",
    "            print(\"Done\")\n",
    "\n",
    "def get_test_csv():\n",
    "    if os.path.isfile(\"datasets/test.csv\"):\n",
    "        print(\"Test.csv already exists skipping...\")\n",
    "    else:\n",
    "        if os.path.isfile(\"datasets/test.csv.zip\"):\n",
    "            print(\"Extracting test.csv.zip...\")\n",
    "            with zipfile.ZipFile(\"datasets/test.csv.zip\", \"r\") as zip_ref:\n",
    "                zip_ref.extractall(\"datasets\")\n",
    "            print(\"Done\")\n"
   ]
  },
  {
   "cell_type": "code",
   "execution_count": 42,
   "metadata": {},
   "outputs": [
    {
     "name": "stdout",
     "output_type": "stream",
     "text": [
      "Train.csv already exists skipping..\n",
      "Test.csv already exists skipping...\n",
      "CPU times: user 680 µs, sys: 0 ns, total: 680 µs\n",
      "Wall time: 447 µs\n"
     ]
    }
   ],
   "source": [
    "%%time\n",
    "get_train_csv()\n",
    "get_test_csv()"
   ]
  },
  {
   "cell_type": "markdown",
   "metadata": {},
   "source": [
    "Before we import the data we need to define the labels of the train data and the test data.\n",
    "The test data is missing one column, the `is_attributed`.\n",
    "\n",
    "We also need to define the datatypes of each attribute to optimize the memory usage, as previously mentioned."
   ]
  },
  {
   "cell_type": "code",
   "execution_count": 43,
   "metadata": {},
   "outputs": [],
   "source": [
    "train_cols = ['ip', 'app', 'device', 'os', 'channel', 'click_time', 'is_attributed']\n",
    "test_cols  = ['ip', 'app', 'device', 'os', 'channel', 'click_time']\n",
    "\n",
    "dtypes = {\n",
    "        'ip'            : 'uint32',\n",
    "        'app'           : 'uint16',\n",
    "        'device'        : 'uint16',\n",
    "        'os'            : 'uint16',\n",
    "        'channel'       : 'uint16',\n",
    "        'is_attributed' : 'uint8',\n",
    "        'click_id'      : 'uint32'\n",
    "        }\n",
    "\n",
    "# train = pd.read_csv('datasets/train.csv', skiprows=range(1,5000000),nrows=1000000, dtype=dtypes, header=0)\n",
    "# train = pd.read_csv('datasets/train.csv', dtype=dtypes, header=0)\n",
    "test = pd.read_csv('datasets/test.csv', dtype=dtypes, header=0)"
   ]
  },
  {
   "cell_type": "markdown",
   "metadata": {},
   "source": [
    "## A temporary random sample"
   ]
  },
  {
   "cell_type": "markdown",
   "metadata": {},
   "source": [
    "Because of the large dataset, I can't load the whole train dataset into the memory of my computer and then do calculations.\n",
    "\n",
    "So I want to create a random sample such that we can analyse if the data is organized by click time. So a random sample should roughly span the full time period and mimick the click pattern.\n",
    "\n",
    "Counting the lines in the original dataset I borrowed [Olafur's answer](https://stackoverflow.com/questions/845058/how-to-get-line-count-cheaply-in-python) from stackoverflow.\n",
    "\n",
    "Checking if a file exists, [PierreBdR's answer](https://stackoverflow.com/questions/82831/how-do-i-check-whether-a-file-exists-in-python).\n",
    "\n",
    "Writing dataframe to csv, [Andy Hayden's answer](https://stackoverflow.com/questions/16923281/pandas-writing-dataframe-to-csv-file)\n",
    "\n",
    "So in the `get_rand_csv` I'm creating a random list of rows to skip data, and then read the train dataset csv file while both skipping the selected rows from the random list, and also specify the datatype.\n",
    "\n",
    "Then I write the randomly generated dataframe to a csv file for later use. \n",
    "\n",
    "And the method is also checking whether the `random_train.csv` file exists or not, so that we are not generating the csv file unnecessary because it takes some time to generate.\n",
    "\n",
    "And underway I'm running the garbage collector to free up variables we don't need anymore."
   ]
  },
  {
   "cell_type": "code",
   "execution_count": 44,
   "metadata": {},
   "outputs": [],
   "source": [
    "def file_len(fname):\n",
    "    p = subprocess.Popen(['wc', '-l', fname], stdout=subprocess.PIPE, \n",
    "                                              stderr=subprocess.PIPE)\n",
    "    result, err = p.communicate()\n",
    "    if p.returncode != 0:\n",
    "        raise IOError(err)\n",
    "    return int(result.strip().split()[0])\n",
    "\n",
    "def get_rand_csv(org_fname = 'datasets/train.csv', rnd_fname = 'datasets/random_train.csv'):\n",
    "    if os.path.exists(rnd_fname):\n",
    "        return pd.read_csv(rnd_fname, dtype=dtypes)\n",
    "    \n",
    "    lines = file_len(org_fname)\n",
    "    print('Number of lines in', org_fname, 'is:', lines)\n",
    "\n",
    "    #generate list of lines to skip\n",
    "    skiplines = np.random.choice(np.arange(1, lines), size=lines-1-1000000, replace=False)\n",
    "\n",
    "    del lines\n",
    "    gc.collect()\n",
    "\n",
    "    #sort the list\n",
    "    skiplines=np.sort(skiplines)\n",
    "\n",
    "    data = pd.read_csv(org_fname, skiprows=skiplines, dtype=dtypes)\n",
    "    data.to_csv(rnd_fname, encoding='utf-8', index=False)\n",
    "    \n",
    "    del skiplines\n",
    "    gc.collect()\n",
    "    \n",
    "    return data"
   ]
  },
  {
   "cell_type": "code",
   "execution_count": 45,
   "metadata": {},
   "outputs": [
    {
     "name": "stdout",
     "output_type": "stream",
     "text": [
      "CPU times: user 703 ms, sys: 14.6 ms, total: 718 ms\n",
      "Wall time: 721 ms\n"
     ]
    }
   ],
   "source": [
    "%%time\n",
    "train = get_rand_csv()"
   ]
  },
  {
   "cell_type": "markdown",
   "metadata": {},
   "source": [
    "## The shape and the head of the random generated data"
   ]
  },
  {
   "cell_type": "code",
   "execution_count": 46,
   "metadata": {},
   "outputs": [
    {
     "data": {
      "text/plain": [
       "(1000000, 8)"
      ]
     },
     "execution_count": 46,
     "metadata": {},
     "output_type": "execute_result"
    }
   ],
   "source": [
    "train.shape"
   ]
  },
  {
   "cell_type": "code",
   "execution_count": 47,
   "metadata": {},
   "outputs": [
    {
     "data": {
      "text/html": [
       "<div>\n",
       "<style scoped>\n",
       "    .dataframe tbody tr th:only-of-type {\n",
       "        vertical-align: middle;\n",
       "    }\n",
       "\n",
       "    .dataframe tbody tr th {\n",
       "        vertical-align: top;\n",
       "    }\n",
       "\n",
       "    .dataframe thead th {\n",
       "        text-align: right;\n",
       "    }\n",
       "</style>\n",
       "<table border=\"1\" class=\"dataframe\">\n",
       "  <thead>\n",
       "    <tr style=\"text-align: right;\">\n",
       "      <th></th>\n",
       "      <th>ip</th>\n",
       "      <th>app</th>\n",
       "      <th>device</th>\n",
       "      <th>os</th>\n",
       "      <th>channel</th>\n",
       "      <th>click_time</th>\n",
       "      <th>attributed_time</th>\n",
       "      <th>is_attributed</th>\n",
       "    </tr>\n",
       "  </thead>\n",
       "  <tbody>\n",
       "    <tr>\n",
       "      <th>0</th>\n",
       "      <td>84774</td>\n",
       "      <td>3</td>\n",
       "      <td>1</td>\n",
       "      <td>19</td>\n",
       "      <td>379</td>\n",
       "      <td>2017-11-06 15:47:52</td>\n",
       "      <td>NaN</td>\n",
       "      <td>0</td>\n",
       "    </tr>\n",
       "    <tr>\n",
       "      <th>1</th>\n",
       "      <td>109938</td>\n",
       "      <td>9</td>\n",
       "      <td>1</td>\n",
       "      <td>13</td>\n",
       "      <td>442</td>\n",
       "      <td>2017-11-06 16:00:00</td>\n",
       "      <td>NaN</td>\n",
       "      <td>0</td>\n",
       "    </tr>\n",
       "    <tr>\n",
       "      <th>2</th>\n",
       "      <td>44663</td>\n",
       "      <td>2</td>\n",
       "      <td>1</td>\n",
       "      <td>22</td>\n",
       "      <td>477</td>\n",
       "      <td>2017-11-06 16:00:00</td>\n",
       "      <td>NaN</td>\n",
       "      <td>0</td>\n",
       "    </tr>\n",
       "    <tr>\n",
       "      <th>3</th>\n",
       "      <td>182113</td>\n",
       "      <td>11</td>\n",
       "      <td>1</td>\n",
       "      <td>19</td>\n",
       "      <td>319</td>\n",
       "      <td>2017-11-06 16:00:00</td>\n",
       "      <td>NaN</td>\n",
       "      <td>0</td>\n",
       "    </tr>\n",
       "    <tr>\n",
       "      <th>4</th>\n",
       "      <td>109393</td>\n",
       "      <td>20</td>\n",
       "      <td>1</td>\n",
       "      <td>32</td>\n",
       "      <td>259</td>\n",
       "      <td>2017-11-06 16:00:01</td>\n",
       "      <td>NaN</td>\n",
       "      <td>0</td>\n",
       "    </tr>\n",
       "  </tbody>\n",
       "</table>\n",
       "</div>"
      ],
      "text/plain": [
       "       ip  app  device  os  channel           click_time attributed_time  \\\n",
       "0   84774    3       1  19      379  2017-11-06 15:47:52             NaN   \n",
       "1  109938    9       1  13      442  2017-11-06 16:00:00             NaN   \n",
       "2   44663    2       1  22      477  2017-11-06 16:00:00             NaN   \n",
       "3  182113   11       1  19      319  2017-11-06 16:00:00             NaN   \n",
       "4  109393   20       1  32      259  2017-11-06 16:00:01             NaN   \n",
       "\n",
       "   is_attributed  \n",
       "0              0  \n",
       "1              0  \n",
       "2              0  \n",
       "3              0  \n",
       "4              0  "
      ]
     },
     "execution_count": 47,
     "metadata": {},
     "output_type": "execute_result"
    }
   ],
   "source": [
    "train.head()"
   ]
  },
  {
   "cell_type": "markdown",
   "metadata": {},
   "source": [
    "# Exploring the data"
   ]
  },
  {
   "cell_type": "markdown",
   "metadata": {},
   "source": [
    "In this section we will explore and look at the different aspects of the data.\n",
    "We will also optimize the datatype of the different fields to save some memory on the computer."
   ]
  },
  {
   "cell_type": "markdown",
   "metadata": {},
   "source": [
    "## Data Fields"
   ]
  },
  {
   "cell_type": "markdown",
   "metadata": {},
   "source": [
    "Each row of the training data contains a click record, with the following features.\n",
    "\n",
    "- `ip`: ip address of click.\n",
    "- `app`: app id for marketing.\n",
    "- `device`: device type id of user mobile phone (e.g., iphone 6 plus, iphone 7, huawei mate 7, etc.)\n",
    "- `os`: os version id of user mobile phone\n",
    "- `channel`: channel id of mobile ad publisher\n",
    "- `click_time`: timestamp of click (UTC)\n",
    "- `attributed_time`: if user download the app for after clicking an ad, this is the time of the app download\n",
    "- `is_attributed`: the target that is to be predicted, indicating the app was downloaded\n",
    "\n",
    "Note that ip, app, device, os, and channel are encoded.\n",
    "\n",
    "The test data is similar, with the following differences:\n",
    "\n",
    "- `click_id`: reference for making predictions\n",
    "- `is_attributed`: not included"
   ]
  },
  {
   "cell_type": "markdown",
   "metadata": {},
   "source": [
    "## Creating Features"
   ]
  },
  {
   "cell_type": "markdown",
   "metadata": {},
   "source": [
    "### Extracting time information"
   ]
  },
  {
   "cell_type": "markdown",
   "metadata": {},
   "source": [
    "To gain some more information from the `click_time` feature we can extract hour, minute, second, day, week day, day of the year and week number.\n",
    "\n",
    "We can also convert the `click_time` and `attributed_time` to timeseries type such that we can make calculations on those fields.\n",
    "\n",
    "I also specify the type of the extracted new features to optimize memory usage."
   ]
  },
  {
   "cell_type": "code",
   "execution_count": 48,
   "metadata": {},
   "outputs": [
    {
     "name": "stdout",
     "output_type": "stream",
     "text": [
      "ip                         uint32\n",
      "app                        uint16\n",
      "device                     uint16\n",
      "os                         uint16\n",
      "channel                    uint16\n",
      "click_time         datetime64[ns]\n",
      "attributed_time    datetime64[ns]\n",
      "is_attributed               uint8\n",
      "hour                        uint8\n",
      "minute                      uint8\n",
      "second                      uint8\n",
      "day                         uint8\n",
      "dow                         uint8\n",
      "doy                         uint8\n",
      "woy                         uint8\n",
      "dtype: object\n"
     ]
    }
   ],
   "source": [
    "def preprocessClicktime(df):\n",
    "    df['click_time']      = pd.to_datetime(df['click_time'])\n",
    "    df['attributed_time'] = pd.to_datetime(df['attributed_time'])\n",
    "    df['hour']   = df['click_time'].dt.hour.astype('uint8')\n",
    "    df['minute'] = df['click_time'].dt.minute.astype('uint8')\n",
    "    df['second'] = df['click_time'].dt.second.astype('uint8')\n",
    "    df['day']    = df['click_time'].dt.day.astype('uint8')\n",
    "    df['dow']    = df['click_time'].dt.dayofweek.astype('uint8')\n",
    "    df[\"doy\"]    = df['click_time'].dt.dayofyear.astype('uint8')\n",
    "    df['woy']    = df['click_time'].dt.week.astype('uint8')\n",
    "    return df\n",
    "\n",
    "train = preprocessClicktime(train)\n",
    "# train            = train.drop(['click_time', 'attributed_time'], axis=1)\n",
    "print(train.dtypes) "
   ]
  },
  {
   "cell_type": "code",
   "execution_count": 49,
   "metadata": {},
   "outputs": [
    {
     "data": {
      "text/html": [
       "<div>\n",
       "<style scoped>\n",
       "    .dataframe tbody tr th:only-of-type {\n",
       "        vertical-align: middle;\n",
       "    }\n",
       "\n",
       "    .dataframe tbody tr th {\n",
       "        vertical-align: top;\n",
       "    }\n",
       "\n",
       "    .dataframe thead th {\n",
       "        text-align: right;\n",
       "    }\n",
       "</style>\n",
       "<table border=\"1\" class=\"dataframe\">\n",
       "  <thead>\n",
       "    <tr style=\"text-align: right;\">\n",
       "      <th></th>\n",
       "      <th>ip</th>\n",
       "      <th>app</th>\n",
       "      <th>device</th>\n",
       "      <th>os</th>\n",
       "      <th>channel</th>\n",
       "      <th>click_time</th>\n",
       "      <th>attributed_time</th>\n",
       "      <th>is_attributed</th>\n",
       "      <th>hour</th>\n",
       "      <th>minute</th>\n",
       "      <th>second</th>\n",
       "      <th>day</th>\n",
       "      <th>dow</th>\n",
       "      <th>doy</th>\n",
       "      <th>woy</th>\n",
       "    </tr>\n",
       "  </thead>\n",
       "  <tbody>\n",
       "    <tr>\n",
       "      <th>count</th>\n",
       "      <td>1000000.000000</td>\n",
       "      <td>1000000.000000</td>\n",
       "      <td>1000000.000000</td>\n",
       "      <td>1000000.000000</td>\n",
       "      <td>1000000.000000</td>\n",
       "      <td>1000000</td>\n",
       "      <td>2516</td>\n",
       "      <td>1000000.000000</td>\n",
       "      <td>1000000.000000</td>\n",
       "      <td>1000000.000000</td>\n",
       "      <td>1000000.000000</td>\n",
       "      <td>1000000.000000</td>\n",
       "      <td>1000000.000000</td>\n",
       "      <td>1000000.000000</td>\n",
       "      <td>1000000.0</td>\n",
       "    </tr>\n",
       "    <tr>\n",
       "      <th>unique</th>\n",
       "      <td>NaN</td>\n",
       "      <td>NaN</td>\n",
       "      <td>NaN</td>\n",
       "      <td>NaN</td>\n",
       "      <td>NaN</td>\n",
       "      <td>234278</td>\n",
       "      <td>2500</td>\n",
       "      <td>NaN</td>\n",
       "      <td>NaN</td>\n",
       "      <td>NaN</td>\n",
       "      <td>NaN</td>\n",
       "      <td>NaN</td>\n",
       "      <td>NaN</td>\n",
       "      <td>NaN</td>\n",
       "      <td>NaN</td>\n",
       "    </tr>\n",
       "    <tr>\n",
       "      <th>top</th>\n",
       "      <td>NaN</td>\n",
       "      <td>NaN</td>\n",
       "      <td>NaN</td>\n",
       "      <td>NaN</td>\n",
       "      <td>NaN</td>\n",
       "      <td>2017-11-09 01:11:24</td>\n",
       "      <td>2017-11-07 13:58:38</td>\n",
       "      <td>NaN</td>\n",
       "      <td>NaN</td>\n",
       "      <td>NaN</td>\n",
       "      <td>NaN</td>\n",
       "      <td>NaN</td>\n",
       "      <td>NaN</td>\n",
       "      <td>NaN</td>\n",
       "      <td>NaN</td>\n",
       "    </tr>\n",
       "    <tr>\n",
       "      <th>freq</th>\n",
       "      <td>NaN</td>\n",
       "      <td>NaN</td>\n",
       "      <td>NaN</td>\n",
       "      <td>NaN</td>\n",
       "      <td>NaN</td>\n",
       "      <td>19</td>\n",
       "      <td>2</td>\n",
       "      <td>NaN</td>\n",
       "      <td>NaN</td>\n",
       "      <td>NaN</td>\n",
       "      <td>NaN</td>\n",
       "      <td>NaN</td>\n",
       "      <td>NaN</td>\n",
       "      <td>NaN</td>\n",
       "      <td>NaN</td>\n",
       "    </tr>\n",
       "    <tr>\n",
       "      <th>first</th>\n",
       "      <td>NaN</td>\n",
       "      <td>NaN</td>\n",
       "      <td>NaN</td>\n",
       "      <td>NaN</td>\n",
       "      <td>NaN</td>\n",
       "      <td>2017-11-06 15:47:52</td>\n",
       "      <td>2017-11-06 16:03:20</td>\n",
       "      <td>NaN</td>\n",
       "      <td>NaN</td>\n",
       "      <td>NaN</td>\n",
       "      <td>NaN</td>\n",
       "      <td>NaN</td>\n",
       "      <td>NaN</td>\n",
       "      <td>NaN</td>\n",
       "      <td>NaN</td>\n",
       "    </tr>\n",
       "    <tr>\n",
       "      <th>last</th>\n",
       "      <td>NaN</td>\n",
       "      <td>NaN</td>\n",
       "      <td>NaN</td>\n",
       "      <td>NaN</td>\n",
       "      <td>NaN</td>\n",
       "      <td>2017-11-09 16:00:00</td>\n",
       "      <td>2017-11-09 15:58:37</td>\n",
       "      <td>NaN</td>\n",
       "      <td>NaN</td>\n",
       "      <td>NaN</td>\n",
       "      <td>NaN</td>\n",
       "      <td>NaN</td>\n",
       "      <td>NaN</td>\n",
       "      <td>NaN</td>\n",
       "      <td>NaN</td>\n",
       "    </tr>\n",
       "    <tr>\n",
       "      <th>mean</th>\n",
       "      <td>90973.555229</td>\n",
       "      <td>12.008897</td>\n",
       "      <td>21.769487</td>\n",
       "      <td>22.715041</td>\n",
       "      <td>268.686408</td>\n",
       "      <td>NaN</td>\n",
       "      <td>NaN</td>\n",
       "      <td>0.002516</td>\n",
       "      <td>9.288628</td>\n",
       "      <td>29.346209</td>\n",
       "      <td>29.577688</td>\n",
       "      <td>7.863239</td>\n",
       "      <td>1.863239</td>\n",
       "      <td>55.863239</td>\n",
       "      <td>45.0</td>\n",
       "    </tr>\n",
       "    <tr>\n",
       "      <th>std</th>\n",
       "      <td>69628.509993</td>\n",
       "      <td>14.811928</td>\n",
       "      <td>259.662478</td>\n",
       "      <td>55.482650</td>\n",
       "      <td>129.606829</td>\n",
       "      <td>NaN</td>\n",
       "      <td>NaN</td>\n",
       "      <td>0.050097</td>\n",
       "      <td>6.168051</td>\n",
       "      <td>17.376922</td>\n",
       "      <td>17.239847</td>\n",
       "      <td>0.889851</td>\n",
       "      <td>0.889851</td>\n",
       "      <td>0.889851</td>\n",
       "      <td>0.0</td>\n",
       "    </tr>\n",
       "    <tr>\n",
       "      <th>min</th>\n",
       "      <td>6.000000</td>\n",
       "      <td>0.000000</td>\n",
       "      <td>0.000000</td>\n",
       "      <td>0.000000</td>\n",
       "      <td>0.000000</td>\n",
       "      <td>NaN</td>\n",
       "      <td>NaN</td>\n",
       "      <td>0.000000</td>\n",
       "      <td>0.000000</td>\n",
       "      <td>0.000000</td>\n",
       "      <td>0.000000</td>\n",
       "      <td>6.000000</td>\n",
       "      <td>0.000000</td>\n",
       "      <td>54.000000</td>\n",
       "      <td>45.0</td>\n",
       "    </tr>\n",
       "    <tr>\n",
       "      <th>25%</th>\n",
       "      <td>40245.000000</td>\n",
       "      <td>3.000000</td>\n",
       "      <td>1.000000</td>\n",
       "      <td>13.000000</td>\n",
       "      <td>145.000000</td>\n",
       "      <td>NaN</td>\n",
       "      <td>NaN</td>\n",
       "      <td>0.000000</td>\n",
       "      <td>4.000000</td>\n",
       "      <td>14.000000</td>\n",
       "      <td>15.000000</td>\n",
       "      <td>7.000000</td>\n",
       "      <td>1.000000</td>\n",
       "      <td>55.000000</td>\n",
       "      <td>45.0</td>\n",
       "    </tr>\n",
       "    <tr>\n",
       "      <th>50%</th>\n",
       "      <td>79673.000000</td>\n",
       "      <td>12.000000</td>\n",
       "      <td>1.000000</td>\n",
       "      <td>18.000000</td>\n",
       "      <td>258.000000</td>\n",
       "      <td>NaN</td>\n",
       "      <td>NaN</td>\n",
       "      <td>0.000000</td>\n",
       "      <td>9.000000</td>\n",
       "      <td>29.000000</td>\n",
       "      <td>30.000000</td>\n",
       "      <td>8.000000</td>\n",
       "      <td>2.000000</td>\n",
       "      <td>56.000000</td>\n",
       "      <td>45.0</td>\n",
       "    </tr>\n",
       "    <tr>\n",
       "      <th>75%</th>\n",
       "      <td>118267.000000</td>\n",
       "      <td>15.000000</td>\n",
       "      <td>1.000000</td>\n",
       "      <td>19.000000</td>\n",
       "      <td>379.000000</td>\n",
       "      <td>NaN</td>\n",
       "      <td>NaN</td>\n",
       "      <td>0.000000</td>\n",
       "      <td>14.000000</td>\n",
       "      <td>44.000000</td>\n",
       "      <td>44.000000</td>\n",
       "      <td>9.000000</td>\n",
       "      <td>3.000000</td>\n",
       "      <td>57.000000</td>\n",
       "      <td>45.0</td>\n",
       "    </tr>\n",
       "    <tr>\n",
       "      <th>max</th>\n",
       "      <td>364764.000000</td>\n",
       "      <td>743.000000</td>\n",
       "      <td>4128.000000</td>\n",
       "      <td>866.000000</td>\n",
       "      <td>498.000000</td>\n",
       "      <td>NaN</td>\n",
       "      <td>NaN</td>\n",
       "      <td>1.000000</td>\n",
       "      <td>23.000000</td>\n",
       "      <td>59.000000</td>\n",
       "      <td>59.000000</td>\n",
       "      <td>9.000000</td>\n",
       "      <td>3.000000</td>\n",
       "      <td>57.000000</td>\n",
       "      <td>45.0</td>\n",
       "    </tr>\n",
       "  </tbody>\n",
       "</table>\n",
       "</div>"
      ],
      "text/plain": [
       "                    ip             app          device              os  \\\n",
       "count   1000000.000000  1000000.000000  1000000.000000  1000000.000000   \n",
       "unique             NaN             NaN             NaN             NaN   \n",
       "top                NaN             NaN             NaN             NaN   \n",
       "freq               NaN             NaN             NaN             NaN   \n",
       "first              NaN             NaN             NaN             NaN   \n",
       "last               NaN             NaN             NaN             NaN   \n",
       "mean      90973.555229       12.008897       21.769487       22.715041   \n",
       "std       69628.509993       14.811928      259.662478       55.482650   \n",
       "min           6.000000        0.000000        0.000000        0.000000   \n",
       "25%       40245.000000        3.000000        1.000000       13.000000   \n",
       "50%       79673.000000       12.000000        1.000000       18.000000   \n",
       "75%      118267.000000       15.000000        1.000000       19.000000   \n",
       "max      364764.000000      743.000000     4128.000000      866.000000   \n",
       "\n",
       "               channel           click_time      attributed_time  \\\n",
       "count   1000000.000000              1000000                 2516   \n",
       "unique             NaN               234278                 2500   \n",
       "top                NaN  2017-11-09 01:11:24  2017-11-07 13:58:38   \n",
       "freq               NaN                   19                    2   \n",
       "first              NaN  2017-11-06 15:47:52  2017-11-06 16:03:20   \n",
       "last               NaN  2017-11-09 16:00:00  2017-11-09 15:58:37   \n",
       "mean        268.686408                  NaN                  NaN   \n",
       "std         129.606829                  NaN                  NaN   \n",
       "min           0.000000                  NaN                  NaN   \n",
       "25%         145.000000                  NaN                  NaN   \n",
       "50%         258.000000                  NaN                  NaN   \n",
       "75%         379.000000                  NaN                  NaN   \n",
       "max         498.000000                  NaN                  NaN   \n",
       "\n",
       "         is_attributed            hour          minute          second  \\\n",
       "count   1000000.000000  1000000.000000  1000000.000000  1000000.000000   \n",
       "unique             NaN             NaN             NaN             NaN   \n",
       "top                NaN             NaN             NaN             NaN   \n",
       "freq               NaN             NaN             NaN             NaN   \n",
       "first              NaN             NaN             NaN             NaN   \n",
       "last               NaN             NaN             NaN             NaN   \n",
       "mean          0.002516        9.288628       29.346209       29.577688   \n",
       "std           0.050097        6.168051       17.376922       17.239847   \n",
       "min           0.000000        0.000000        0.000000        0.000000   \n",
       "25%           0.000000        4.000000       14.000000       15.000000   \n",
       "50%           0.000000        9.000000       29.000000       30.000000   \n",
       "75%           0.000000       14.000000       44.000000       44.000000   \n",
       "max           1.000000       23.000000       59.000000       59.000000   \n",
       "\n",
       "                   day             dow             doy        woy  \n",
       "count   1000000.000000  1000000.000000  1000000.000000  1000000.0  \n",
       "unique             NaN             NaN             NaN        NaN  \n",
       "top                NaN             NaN             NaN        NaN  \n",
       "freq               NaN             NaN             NaN        NaN  \n",
       "first              NaN             NaN             NaN        NaN  \n",
       "last               NaN             NaN             NaN        NaN  \n",
       "mean          7.863239        1.863239       55.863239       45.0  \n",
       "std           0.889851        0.889851        0.889851        0.0  \n",
       "min           6.000000        0.000000       54.000000       45.0  \n",
       "25%           7.000000        1.000000       55.000000       45.0  \n",
       "50%           8.000000        2.000000       56.000000       45.0  \n",
       "75%           9.000000        3.000000       57.000000       45.0  \n",
       "max           9.000000        3.000000       57.000000       45.0  "
      ]
     },
     "execution_count": 49,
     "metadata": {},
     "output_type": "execute_result"
    }
   ],
   "source": [
    "train.describe(include='all')"
   ]
  },
  {
   "cell_type": "markdown",
   "metadata": {},
   "source": [
    "## Plotting the data"
   ]
  },
  {
   "cell_type": "code",
   "execution_count": 50,
   "metadata": {},
   "outputs": [],
   "source": [
    "frequent_hour = train.hour.value_counts().sort_index()\n",
    "frequent_day = train.day.value_counts().sort_index()\n",
    "frequent_doy = train.doy.value_counts().sort_index()\n",
    "frequent_dow = train.dow.value_counts().sort_index()\n",
    "frequent_minute = train.minute.value_counts().sort_index()\n",
    "frequent_second = train.second.value_counts().sort_index()"
   ]
  },
  {
   "cell_type": "markdown",
   "metadata": {},
   "source": [
    "### Frequency subplots"
   ]
  },
  {
   "cell_type": "code",
   "execution_count": 51,
   "metadata": {},
   "outputs": [
    {
     "data": {
      "text/plain": [
       "316"
      ]
     },
     "execution_count": 51,
     "metadata": {},
     "output_type": "execute_result"
    },
    {
     "data": {
      "image/png": "[encoded data removed]",
      "text/plain": [
       "<Figure size 1080x1440 with 6 Axes>"
      ]
     },
     "metadata": {
      "needs_background": "light"
     },
     "output_type": "display_data"
    }
   ],
   "source": [
    "plt.figure(figsize=(15,20))\n",
    "plt.subplot(321)\n",
    "frequent_hour.plot(kind='bar')\n",
    "plt.title(\"Frequent hours\")\n",
    "plt.xlabel(\"Hours\")\n",
    "plt.ylabel(\"Number\")\n",
    "\n",
    "plt.subplot(322)\n",
    "frequent_day.plot(kind='bar')\n",
    "plt.title(\"Frequent days\")\n",
    "plt.xlabel(\"Days\")\n",
    "plt.ylabel(\"Number\")\n",
    "\n",
    "plt.subplot(323)\n",
    "frequent_doy.plot(kind='bar')\n",
    "plt.title(\"Frequent day of year\")\n",
    "plt.xlabel(\"Frequent day of year\")\n",
    "plt.ylabel(\"Number\")\n",
    "\n",
    "plt.subplot(324)\n",
    "frequent_dow.plot(kind='bar')\n",
    "plt.title(\"Frequent day of week\")\n",
    "plt.xlabel(\"Frequent day of week\")\n",
    "plt.ylabel(\"Number\")\n",
    "\n",
    "plt.subplot(325)\n",
    "frequent_minute.plot(kind='bar')\n",
    "plt.xticks(np.arange(0, 69, step=10), (0,10,20,30,40,50,60))\n",
    "plt.title(\"Frequent  minutes\")\n",
    "plt.xlabel(\"Minutes\")\n",
    "plt.ylabel(\"Number\")\n",
    "\n",
    "plt.subplot(326)\n",
    "frequent_second.plot(kind='bar')\n",
    "plt.xticks(np.arange(0, 69, step=10), (0,10,20,30,40,50,60))\n",
    "plt.title(\"Frequent seconds\")\n",
    "plt.xlabel(\"Seconds\")\n",
    "plt.ylabel(\"Number\")\n",
    "\n",
    "# Free up memory and call garbage collector\n",
    "del frequent_hour,frequent_day,frequent_doy,frequent_dow,frequent_minute,frequent_second\n",
    "gc.collect()"
   ]
  },
  {
   "cell_type": "markdown",
   "metadata": {},
   "source": [
    "### Frequency histogram subplots"
   ]
  },
  {
   "cell_type": "code",
   "execution_count": 52,
   "metadata": {},
   "outputs": [
    {
     "data": {
      "image/png": "[encoded data removed]",
      "text/plain": [
       "<Figure size 1080x1440 with 6 Axes>"
      ]
     },
     "metadata": {
      "needs_background": "light"
     },
     "output_type": "display_data"
    }
   ],
   "source": [
    "BIN = 30\n",
    "plt.figure(figsize=(15,20))\n",
    "plt.subplot(321)\n",
    "plt.hist(train['hour'], bins=BIN)\n",
    "plt.title(\"Histogram of frequent hours\")\n",
    "plt.xlabel(\"Frequent hours\")\n",
    "\n",
    "plt.subplot(322)\n",
    "plt.hist(train['day'], bins=BIN)\n",
    "plt.title(\"Histogram of frequent days\")\n",
    "plt.xlabel(\"Frequent days\")\n",
    "\n",
    "plt.subplot(323)\n",
    "plt.hist(train['doy'], bins=BIN)\n",
    "plt.title(\"Histogram of frequent doys\")\n",
    "plt.xlabel(\"Frequent doys\")\n",
    "\n",
    "plt.subplot(324)\n",
    "plt.hist(train['dow'], bins=BIN)\n",
    "plt.title(\"Histogram of frequent week days\")\n",
    "plt.xlabel(\"Frequent week days\")\n",
    "\n",
    "plt.subplot(325)\n",
    "plt.hist(train['minute'], bins=BIN)\n",
    "plt.title(\"Histogram of frequent minutes\")\n",
    "plt.xlabel(\"Frequent minutes\")\n",
    "\n",
    "plt.subplot(326)\n",
    "plt.hist(train['second'], bins=BIN)\n",
    "plt.title(\"Histogram of frequent seconds\")\n",
    "plt.xlabel(\"Frequent seconds\")\n",
    "plt.show()"
   ]
  },
  {
   "cell_type": "markdown",
   "metadata": {},
   "source": [
    "### Hourly click frequency over time"
   ]
  },
  {
   "cell_type": "code",
   "execution_count": 53,
   "metadata": {},
   "outputs": [
    {
     "data": {
      "image/png": "[encoded data removed]",
      "text/plain": [
       "<Figure size 1440x504 with 1 Axes>"
      ]
     },
     "metadata": {
      "needs_background": "light"
     },
     "output_type": "display_data"
    },
    {
     "data": {
      "image/png": "[encoded data removed]",
      "text/plain": [
       "<Figure size 1440x504 with 1 Axes>"
      ]
     },
     "metadata": {
      "needs_background": "light"
     },
     "output_type": "display_data"
    }
   ],
   "source": [
    "#round the time to nearest hour\n",
    "train['click_rnd']=train['click_time'].dt.round('H')  \n",
    "\n",
    "#check for hourly patterns\n",
    "train[['click_rnd','is_attributed']].groupby(['click_rnd'], as_index=True).count().plot(figsize=(20, 7))\n",
    "plt.title('HOURLY CLICK FREQUENCY');\n",
    "plt.ylabel('Number of Clicks');\n",
    "\n",
    "train[['click_rnd','is_attributed']].groupby(['click_rnd'], as_index=True).mean().plot(figsize=(20, 7))\n",
    "plt.title('HOURLY CONVERSION RATIO');\n",
    "plt.ylabel('Converted Ratio');"
   ]
  },
  {
   "cell_type": "markdown",
   "metadata": {},
   "source": [
    "### Hourly click frequency grouped by click hour"
   ]
  },
  {
   "cell_type": "code",
   "execution_count": 54,
   "metadata": {},
   "outputs": [
    {
     "data": {
      "image/png": "[encoded data removed]",
      "text/plain": [
       "<Figure size 1440x504 with 1 Axes>"
      ]
     },
     "metadata": {
      "needs_background": "light"
     },
     "output_type": "display_data"
    },
    {
     "data": {
      "image/png": "[encoded data removed]",
      "text/plain": [
       "<Figure size 1440x504 with 1 Axes>"
      ]
     },
     "metadata": {
      "needs_background": "light"
     },
     "output_type": "display_data"
    }
   ],
   "source": [
    "train['click_hour']=train['click_time'].dt.hour\n",
    "\n",
    "train[['click_hour','is_attributed']].groupby(['click_hour'], as_index=True).count().plot(kind='bar', color='#a675a1', figsize=(20, 7))\n",
    "plt.title('HOURLY CLICK FREQUENCY Barplot');\n",
    "plt.ylabel('Number of Clicks');\n",
    "\n",
    "train[['click_hour','is_attributed']].groupby(['click_hour'], as_index=True).count().plot(color='#a675a1', figsize=(20, 7))\n",
    "plt.title('HOURLY CLICK FREQUENCY Lineplot');\n",
    "plt.ylabel('Number of Clicks');"
   ]
  },
  {
   "cell_type": "markdown",
   "metadata": {},
   "source": [
    "### Hourly conversion ratio grouped by click hour"
   ]
  },
  {
   "cell_type": "code",
   "execution_count": 55,
   "metadata": {},
   "outputs": [
    {
     "data": {
      "image/png": "[encoded data removed]",
      "text/plain": [
       "<Figure size 1440x504 with 1 Axes>"
      ]
     },
     "metadata": {
      "needs_background": "light"
     },
     "output_type": "display_data"
    },
    {
     "data": {
      "image/png": "[encoded data removed]",
      "text/plain": [
       "<Figure size 1440x504 with 1 Axes>"
      ]
     },
     "metadata": {
      "needs_background": "light"
     },
     "output_type": "display_data"
    }
   ],
   "source": [
    "train[['click_hour','is_attributed']].groupby(['click_hour'], as_index=True).mean().plot(kind='bar', color='#75a1a6', figsize=(20, 7))\n",
    "plt.title('HOURLY CONVERSION RATIO Barplot');\n",
    "plt.ylabel('Converted Ratio');\n",
    "\n",
    "train[['click_hour','is_attributed']].groupby(['click_hour'], as_index=True).mean().plot(color='#75a1a6', figsize=(20, 7))\n",
    "plt.title('HOURLY CONVERSION RATIO Lineplot');\n",
    "plt.ylabel('Converted Ratio');"
   ]
  },
  {
   "cell_type": "markdown",
   "metadata": {},
   "source": [
    "### Click count vs Proportion converted "
   ]
  },
  {
   "cell_type": "code",
   "execution_count": 56,
   "metadata": {},
   "outputs": [
    {
     "data": {
      "image/png": "[encoded data removed]",
      "text/plain": [
       "<Figure size 1440x504 with 2 Axes>"
      ]
     },
     "metadata": {
      "needs_background": "light"
     },
     "output_type": "display_data"
    }
   ],
   "source": [
    "#adapted from https://stackoverflow.com/questions/9103166/multiple-axis-in-matplotlib-with-different-scales\n",
    "#smonek's answer\n",
    "\n",
    "\n",
    "group = train[['click_hour','is_attributed']].groupby(['click_hour'], as_index=False).mean()\n",
    "x = group['click_hour']\n",
    "ymean = group['is_attributed']\n",
    "group = train[['click_hour','is_attributed']].groupby(['click_hour'], as_index=False).count()\n",
    "ycount = group['is_attributed']\n",
    "\n",
    "\n",
    "fig = plt.figure(figsize=(20, 7))\n",
    "host = fig.add_subplot(111)\n",
    "\n",
    "par1 = host.twinx()\n",
    "\n",
    "host.set_xlabel(\"Time\")\n",
    "host.set_ylabel(\"Proportion Converted\")\n",
    "par1.set_ylabel(\"Click Count\")\n",
    "\n",
    "color1 = '#75a1a6'\n",
    "color2 = '#a675a1'\n",
    "\n",
    "p1, = host.plot(x, ymean, color=color1,label=\"Proportion Converted\")\n",
    "p2, = par1.plot(x, ycount, color=color2, label=\"Click Count\")\n",
    "\n",
    "lns = [p1, p2]\n",
    "host.legend(handles=lns, loc='best')\n",
    "\n",
    "host.yaxis.label.set_color(p1.get_color())\n",
    "par1.yaxis.label.set_color(p2.get_color())\n",
    "\n",
    "del group, "
   ]
  },
  {
   "cell_type": "markdown",
   "metadata": {},
   "source": [
    "## Calculating time passed"
   ]
  },
  {
   "cell_type": "markdown",
   "metadata": {},
   "source": [
    "We can calculate the time passed between clicking on the ad and when starting to download the app by substracting the `attributed_time` by `click_time`. \n",
    "\n",
    "We can then print out the five first rows where the app actually was downloaded."
   ]
  },
  {
   "cell_type": "code",
   "execution_count": 57,
   "metadata": {},
   "outputs": [
    {
     "data": {
      "text/html": [
       "<div>\n",
       "<style scoped>\n",
       "    .dataframe tbody tr th:only-of-type {\n",
       "        vertical-align: middle;\n",
       "    }\n",
       "\n",
       "    .dataframe tbody tr th {\n",
       "        vertical-align: top;\n",
       "    }\n",
       "\n",
       "    .dataframe thead th {\n",
       "        text-align: right;\n",
       "    }\n",
       "</style>\n",
       "<table border=\"1\" class=\"dataframe\">\n",
       "  <thead>\n",
       "    <tr style=\"text-align: right;\">\n",
       "      <th></th>\n",
       "      <th>ip</th>\n",
       "      <th>app</th>\n",
       "      <th>device</th>\n",
       "      <th>os</th>\n",
       "      <th>channel</th>\n",
       "      <th>click_time</th>\n",
       "      <th>attributed_time</th>\n",
       "      <th>is_attributed</th>\n",
       "      <th>hour</th>\n",
       "      <th>minute</th>\n",
       "      <th>second</th>\n",
       "      <th>day</th>\n",
       "      <th>dow</th>\n",
       "      <th>doy</th>\n",
       "      <th>woy</th>\n",
       "      <th>click_rnd</th>\n",
       "      <th>click_hour</th>\n",
       "      <th>time_pass</th>\n",
       "    </tr>\n",
       "  </thead>\n",
       "  <tbody>\n",
       "    <tr>\n",
       "      <th>358</th>\n",
       "      <td>141422</td>\n",
       "      <td>72</td>\n",
       "      <td>1</td>\n",
       "      <td>19</td>\n",
       "      <td>101</td>\n",
       "      <td>2017-11-06 16:01:11</td>\n",
       "      <td>2017-11-06 16:15:12</td>\n",
       "      <td>1</td>\n",
       "      <td>16</td>\n",
       "      <td>1</td>\n",
       "      <td>11</td>\n",
       "      <td>6</td>\n",
       "      <td>0</td>\n",
       "      <td>54</td>\n",
       "      <td>45</td>\n",
       "      <td>2017-11-06 16:00:00</td>\n",
       "      <td>16</td>\n",
       "      <td>00:14:01</td>\n",
       "    </tr>\n",
       "    <tr>\n",
       "      <th>471</th>\n",
       "      <td>208340</td>\n",
       "      <td>29</td>\n",
       "      <td>1</td>\n",
       "      <td>19</td>\n",
       "      <td>333</td>\n",
       "      <td>2017-11-06 16:01:33</td>\n",
       "      <td>2017-11-06 16:03:20</td>\n",
       "      <td>1</td>\n",
       "      <td>16</td>\n",
       "      <td>1</td>\n",
       "      <td>33</td>\n",
       "      <td>6</td>\n",
       "      <td>0</td>\n",
       "      <td>54</td>\n",
       "      <td>45</td>\n",
       "      <td>2017-11-06 16:00:00</td>\n",
       "      <td>16</td>\n",
       "      <td>00:01:47</td>\n",
       "    </tr>\n",
       "    <tr>\n",
       "      <th>616</th>\n",
       "      <td>61970</td>\n",
       "      <td>18</td>\n",
       "      <td>1</td>\n",
       "      <td>13</td>\n",
       "      <td>107</td>\n",
       "      <td>2017-11-06 16:02:08</td>\n",
       "      <td>2017-11-06 16:55:11</td>\n",
       "      <td>1</td>\n",
       "      <td>16</td>\n",
       "      <td>2</td>\n",
       "      <td>8</td>\n",
       "      <td>6</td>\n",
       "      <td>0</td>\n",
       "      <td>54</td>\n",
       "      <td>45</td>\n",
       "      <td>2017-11-06 16:00:00</td>\n",
       "      <td>16</td>\n",
       "      <td>00:53:03</td>\n",
       "    </tr>\n",
       "    <tr>\n",
       "      <th>1240</th>\n",
       "      <td>172310</td>\n",
       "      <td>19</td>\n",
       "      <td>0</td>\n",
       "      <td>24</td>\n",
       "      <td>213</td>\n",
       "      <td>2017-11-06 16:04:30</td>\n",
       "      <td>2017-11-07 08:16:17</td>\n",
       "      <td>1</td>\n",
       "      <td>16</td>\n",
       "      <td>4</td>\n",
       "      <td>30</td>\n",
       "      <td>6</td>\n",
       "      <td>0</td>\n",
       "      <td>54</td>\n",
       "      <td>45</td>\n",
       "      <td>2017-11-06 16:00:00</td>\n",
       "      <td>16</td>\n",
       "      <td>16:11:47</td>\n",
       "    </tr>\n",
       "    <tr>\n",
       "      <th>2022</th>\n",
       "      <td>58741</td>\n",
       "      <td>35</td>\n",
       "      <td>1</td>\n",
       "      <td>19</td>\n",
       "      <td>274</td>\n",
       "      <td>2017-11-06 16:07:27</td>\n",
       "      <td>2017-11-06 16:18:51</td>\n",
       "      <td>1</td>\n",
       "      <td>16</td>\n",
       "      <td>7</td>\n",
       "      <td>27</td>\n",
       "      <td>6</td>\n",
       "      <td>0</td>\n",
       "      <td>54</td>\n",
       "      <td>45</td>\n",
       "      <td>2017-11-06 16:00:00</td>\n",
       "      <td>16</td>\n",
       "      <td>00:11:24</td>\n",
       "    </tr>\n",
       "  </tbody>\n",
       "</table>\n",
       "</div>"
      ],
      "text/plain": [
       "          ip  app  device  os  channel          click_time  \\\n",
       "358   141422   72       1  19      101 2017-11-06 16:01:11   \n",
       "471   208340   29       1  19      333 2017-11-06 16:01:33   \n",
       "616    61970   18       1  13      107 2017-11-06 16:02:08   \n",
       "1240  172310   19       0  24      213 2017-11-06 16:04:30   \n",
       "2022   58741   35       1  19      274 2017-11-06 16:07:27   \n",
       "\n",
       "         attributed_time  is_attributed  hour  minute  second  day  dow  doy  \\\n",
       "358  2017-11-06 16:15:12              1    16       1      11    6    0   54   \n",
       "471  2017-11-06 16:03:20              1    16       1      33    6    0   54   \n",
       "616  2017-11-06 16:55:11              1    16       2       8    6    0   54   \n",
       "1240 2017-11-07 08:16:17              1    16       4      30    6    0   54   \n",
       "2022 2017-11-06 16:18:51              1    16       7      27    6    0   54   \n",
       "\n",
       "      woy           click_rnd  click_hour time_pass  \n",
       "358    45 2017-11-06 16:00:00          16  00:14:01  \n",
       "471    45 2017-11-06 16:00:00          16  00:01:47  \n",
       "616    45 2017-11-06 16:00:00          16  00:53:03  \n",
       "1240   45 2017-11-06 16:00:00          16  16:11:47  \n",
       "2022   45 2017-11-06 16:00:00          16  00:11:24  "
      ]
     },
     "execution_count": 57,
     "metadata": {},
     "output_type": "execute_result"
    }
   ],
   "source": [
    "train['time_pass']= train['attributed_time']-train['click_time']\n",
    "#check:\n",
    "train[train['is_attributed']==1][:5]"
   ]
  },
  {
   "cell_type": "markdown",
   "metadata": {},
   "source": [
    "We can then look at the `describe` function of the column `time_pass`.\n",
    "\n",
    "Some interesting numbers to look at could be the `min` output, there is very little chance that a normal user could be clicking on an ad and then downloading the app by 1 second."
   ]
  },
  {
   "cell_type": "code",
   "execution_count": 58,
   "metadata": {},
   "outputs": [
    {
     "data": {
      "text/plain": [
       "count                      2516\n",
       "mean     0 days 01:22:55.994833\n",
       "std      0 days 02:46:00.095347\n",
       "min             0 days 00:00:01\n",
       "25%             0 days 00:00:54\n",
       "50%      0 days 00:04:40.500000\n",
       "75%      0 days 01:15:09.500000\n",
       "max             0 days 20:37:25\n",
       "Name: time_pass, dtype: object"
      ]
     },
     "execution_count": 58,
     "metadata": {},
     "output_type": "execute_result"
    }
   ],
   "source": [
    "train['time_pass'].describe()"
   ]
  },
  {
   "cell_type": "markdown",
   "metadata": {},
   "source": [
    "# Training"
   ]
  },
  {
   "cell_type": "markdown",
   "metadata": {},
   "source": [
    "## Initiate the submition dataframe"
   ]
  },
  {
   "cell_type": "code",
   "execution_count": 59,
   "metadata": {},
   "outputs": [],
   "source": [
    "sub = pd.DataFrame()\n",
    "sub['click_id'] = test['click_id']\n",
    "\n",
    "train = train.drop(['click_time','click_rnd', 'time_pass', 'attributed_time'], axis=1)\n",
    "test = test.drop(['click_id', 'click_time'], axis=1)\n",
    "\n",
    "y = train['is_attributed']\n",
    "train = train.drop(['is_attributed'], axis=1)\n",
    "\n",
    "xgtest = xgb.DMatrix(test.values)"
   ]
  },
  {
   "cell_type": "markdown",
   "metadata": {},
   "source": [
    "## XGBoost standard params grid"
   ]
  },
  {
   "cell_type": "markdown",
   "metadata": {},
   "source": [
    "XGBoost standard param grid"
   ]
  },
  {
   "cell_type": "code",
   "execution_count": 60,
   "metadata": {},
   "outputs": [],
   "source": [
    "xgb_param_grid = {\n",
    "        'min_child_weight': [1, 5, 10],\n",
    "        'gamma': [0.0, 1.0, 1.5],\n",
    "        'subsample': [0.6, 1.0],\n",
    "        'colsample_bytree': [0.6, 0.8, 1.0],\n",
    "        'max_depth': [5, 6, 7, 8, 10]\n",
    "    }\n",
    "\n",
    "\n",
    "xgb_param_grid_large = {\n",
    "        'learning_rate': [0.1, 0.05, 0.2],\n",
    "        'n_estimators': [50, 100, 500, 600],\n",
    "        'min_child_weight': [1, 5, 10],\n",
    "        'gamma': [0.0, 1.0, 1.5],\n",
    "        'subsample': [0.6, 1.0],\n",
    "        'colsample_bytree': [0.5, 0.6, 0.8],\n",
    "        'max_depth': [3, 4, 5, 6, 7, 8, 9, 10],\n",
    "        'reg_lambda': [1, ]\n",
    "    }"
   ]
  },
  {
   "cell_type": "markdown",
   "metadata": {},
   "source": [
    "## The first modell using XGBRegressor"
   ]
  },
  {
   "cell_type": "code",
   "execution_count": 61,
   "metadata": {},
   "outputs": [
    {
     "data": {
      "text/html": [
       "<div>\n",
       "<style scoped>\n",
       "    .dataframe tbody tr th:only-of-type {\n",
       "        vertical-align: middle;\n",
       "    }\n",
       "\n",
       "    .dataframe tbody tr th {\n",
       "        vertical-align: top;\n",
       "    }\n",
       "\n",
       "    .dataframe thead th {\n",
       "        text-align: right;\n",
       "    }\n",
       "</style>\n",
       "<table border=\"1\" class=\"dataframe\">\n",
       "  <thead>\n",
       "    <tr style=\"text-align: right;\">\n",
       "      <th></th>\n",
       "      <th>ip</th>\n",
       "      <th>app</th>\n",
       "      <th>device</th>\n",
       "      <th>os</th>\n",
       "      <th>channel</th>\n",
       "      <th>hour</th>\n",
       "      <th>minute</th>\n",
       "      <th>second</th>\n",
       "      <th>day</th>\n",
       "      <th>dow</th>\n",
       "      <th>doy</th>\n",
       "      <th>woy</th>\n",
       "      <th>click_hour</th>\n",
       "    </tr>\n",
       "  </thead>\n",
       "  <tbody>\n",
       "    <tr>\n",
       "      <th>0</th>\n",
       "      <td>84774</td>\n",
       "      <td>3</td>\n",
       "      <td>1</td>\n",
       "      <td>19</td>\n",
       "      <td>379</td>\n",
       "      <td>15</td>\n",
       "      <td>47</td>\n",
       "      <td>52</td>\n",
       "      <td>6</td>\n",
       "      <td>0</td>\n",
       "      <td>54</td>\n",
       "      <td>45</td>\n",
       "      <td>15</td>\n",
       "    </tr>\n",
       "    <tr>\n",
       "      <th>1</th>\n",
       "      <td>109938</td>\n",
       "      <td>9</td>\n",
       "      <td>1</td>\n",
       "      <td>13</td>\n",
       "      <td>442</td>\n",
       "      <td>16</td>\n",
       "      <td>0</td>\n",
       "      <td>0</td>\n",
       "      <td>6</td>\n",
       "      <td>0</td>\n",
       "      <td>54</td>\n",
       "      <td>45</td>\n",
       "      <td>16</td>\n",
       "    </tr>\n",
       "    <tr>\n",
       "      <th>2</th>\n",
       "      <td>44663</td>\n",
       "      <td>2</td>\n",
       "      <td>1</td>\n",
       "      <td>22</td>\n",
       "      <td>477</td>\n",
       "      <td>16</td>\n",
       "      <td>0</td>\n",
       "      <td>0</td>\n",
       "      <td>6</td>\n",
       "      <td>0</td>\n",
       "      <td>54</td>\n",
       "      <td>45</td>\n",
       "      <td>16</td>\n",
       "    </tr>\n",
       "    <tr>\n",
       "      <th>3</th>\n",
       "      <td>182113</td>\n",
       "      <td>11</td>\n",
       "      <td>1</td>\n",
       "      <td>19</td>\n",
       "      <td>319</td>\n",
       "      <td>16</td>\n",
       "      <td>0</td>\n",
       "      <td>0</td>\n",
       "      <td>6</td>\n",
       "      <td>0</td>\n",
       "      <td>54</td>\n",
       "      <td>45</td>\n",
       "      <td>16</td>\n",
       "    </tr>\n",
       "    <tr>\n",
       "      <th>4</th>\n",
       "      <td>109393</td>\n",
       "      <td>20</td>\n",
       "      <td>1</td>\n",
       "      <td>32</td>\n",
       "      <td>259</td>\n",
       "      <td>16</td>\n",
       "      <td>0</td>\n",
       "      <td>1</td>\n",
       "      <td>6</td>\n",
       "      <td>0</td>\n",
       "      <td>54</td>\n",
       "      <td>45</td>\n",
       "      <td>16</td>\n",
       "    </tr>\n",
       "    <tr>\n",
       "      <th>5</th>\n",
       "      <td>48212</td>\n",
       "      <td>2</td>\n",
       "      <td>1</td>\n",
       "      <td>27</td>\n",
       "      <td>237</td>\n",
       "      <td>16</td>\n",
       "      <td>0</td>\n",
       "      <td>1</td>\n",
       "      <td>6</td>\n",
       "      <td>0</td>\n",
       "      <td>54</td>\n",
       "      <td>45</td>\n",
       "      <td>16</td>\n",
       "    </tr>\n",
       "    <tr>\n",
       "      <th>6</th>\n",
       "      <td>143872</td>\n",
       "      <td>24</td>\n",
       "      <td>1</td>\n",
       "      <td>26</td>\n",
       "      <td>105</td>\n",
       "      <td>16</td>\n",
       "      <td>0</td>\n",
       "      <td>1</td>\n",
       "      <td>6</td>\n",
       "      <td>0</td>\n",
       "      <td>54</td>\n",
       "      <td>45</td>\n",
       "      <td>16</td>\n",
       "    </tr>\n",
       "    <tr>\n",
       "      <th>7</th>\n",
       "      <td>76045</td>\n",
       "      <td>9</td>\n",
       "      <td>1</td>\n",
       "      <td>13</td>\n",
       "      <td>215</td>\n",
       "      <td>16</td>\n",
       "      <td>0</td>\n",
       "      <td>1</td>\n",
       "      <td>6</td>\n",
       "      <td>0</td>\n",
       "      <td>54</td>\n",
       "      <td>45</td>\n",
       "      <td>16</td>\n",
       "    </tr>\n",
       "    <tr>\n",
       "      <th>8</th>\n",
       "      <td>118512</td>\n",
       "      <td>24</td>\n",
       "      <td>1</td>\n",
       "      <td>40</td>\n",
       "      <td>105</td>\n",
       "      <td>16</td>\n",
       "      <td>0</td>\n",
       "      <td>1</td>\n",
       "      <td>6</td>\n",
       "      <td>0</td>\n",
       "      <td>54</td>\n",
       "      <td>45</td>\n",
       "      <td>16</td>\n",
       "    </tr>\n",
       "    <tr>\n",
       "      <th>9</th>\n",
       "      <td>98606</td>\n",
       "      <td>14</td>\n",
       "      <td>1</td>\n",
       "      <td>3</td>\n",
       "      <td>439</td>\n",
       "      <td>16</td>\n",
       "      <td>0</td>\n",
       "      <td>2</td>\n",
       "      <td>6</td>\n",
       "      <td>0</td>\n",
       "      <td>54</td>\n",
       "      <td>45</td>\n",
       "      <td>16</td>\n",
       "    </tr>\n",
       "    <tr>\n",
       "      <th>10</th>\n",
       "      <td>191053</td>\n",
       "      <td>15</td>\n",
       "      <td>1</td>\n",
       "      <td>22</td>\n",
       "      <td>379</td>\n",
       "      <td>16</td>\n",
       "      <td>0</td>\n",
       "      <td>3</td>\n",
       "      <td>6</td>\n",
       "      <td>0</td>\n",
       "      <td>54</td>\n",
       "      <td>45</td>\n",
       "      <td>16</td>\n",
       "    </tr>\n",
       "    <tr>\n",
       "      <th>11</th>\n",
       "      <td>73516</td>\n",
       "      <td>12</td>\n",
       "      <td>1</td>\n",
       "      <td>19</td>\n",
       "      <td>328</td>\n",
       "      <td>16</td>\n",
       "      <td>0</td>\n",
       "      <td>3</td>\n",
       "      <td>6</td>\n",
       "      <td>0</td>\n",
       "      <td>54</td>\n",
       "      <td>45</td>\n",
       "      <td>16</td>\n",
       "    </tr>\n",
       "    <tr>\n",
       "      <th>12</th>\n",
       "      <td>67716</td>\n",
       "      <td>12</td>\n",
       "      <td>1</td>\n",
       "      <td>13</td>\n",
       "      <td>265</td>\n",
       "      <td>16</td>\n",
       "      <td>0</td>\n",
       "      <td>3</td>\n",
       "      <td>6</td>\n",
       "      <td>0</td>\n",
       "      <td>54</td>\n",
       "      <td>45</td>\n",
       "      <td>16</td>\n",
       "    </tr>\n",
       "    <tr>\n",
       "      <th>13</th>\n",
       "      <td>144231</td>\n",
       "      <td>12</td>\n",
       "      <td>1</td>\n",
       "      <td>13</td>\n",
       "      <td>178</td>\n",
       "      <td>16</td>\n",
       "      <td>0</td>\n",
       "      <td>3</td>\n",
       "      <td>6</td>\n",
       "      <td>0</td>\n",
       "      <td>54</td>\n",
       "      <td>45</td>\n",
       "      <td>16</td>\n",
       "    </tr>\n",
       "    <tr>\n",
       "      <th>14</th>\n",
       "      <td>206873</td>\n",
       "      <td>11</td>\n",
       "      <td>1</td>\n",
       "      <td>8</td>\n",
       "      <td>173</td>\n",
       "      <td>16</td>\n",
       "      <td>0</td>\n",
       "      <td>3</td>\n",
       "      <td>6</td>\n",
       "      <td>0</td>\n",
       "      <td>54</td>\n",
       "      <td>45</td>\n",
       "      <td>16</td>\n",
       "    </tr>\n",
       "    <tr>\n",
       "      <th>15</th>\n",
       "      <td>40631</td>\n",
       "      <td>15</td>\n",
       "      <td>1</td>\n",
       "      <td>13</td>\n",
       "      <td>111</td>\n",
       "      <td>16</td>\n",
       "      <td>0</td>\n",
       "      <td>4</td>\n",
       "      <td>6</td>\n",
       "      <td>0</td>\n",
       "      <td>54</td>\n",
       "      <td>45</td>\n",
       "      <td>16</td>\n",
       "    </tr>\n",
       "    <tr>\n",
       "      <th>16</th>\n",
       "      <td>69747</td>\n",
       "      <td>2</td>\n",
       "      <td>1</td>\n",
       "      <td>13</td>\n",
       "      <td>243</td>\n",
       "      <td>16</td>\n",
       "      <td>0</td>\n",
       "      <td>4</td>\n",
       "      <td>6</td>\n",
       "      <td>0</td>\n",
       "      <td>54</td>\n",
       "      <td>45</td>\n",
       "      <td>16</td>\n",
       "    </tr>\n",
       "    <tr>\n",
       "      <th>17</th>\n",
       "      <td>84896</td>\n",
       "      <td>15</td>\n",
       "      <td>1</td>\n",
       "      <td>15</td>\n",
       "      <td>245</td>\n",
       "      <td>16</td>\n",
       "      <td>0</td>\n",
       "      <td>4</td>\n",
       "      <td>6</td>\n",
       "      <td>0</td>\n",
       "      <td>54</td>\n",
       "      <td>45</td>\n",
       "      <td>16</td>\n",
       "    </tr>\n",
       "    <tr>\n",
       "      <th>18</th>\n",
       "      <td>50131</td>\n",
       "      <td>21</td>\n",
       "      <td>1</td>\n",
       "      <td>13</td>\n",
       "      <td>128</td>\n",
       "      <td>16</td>\n",
       "      <td>0</td>\n",
       "      <td>5</td>\n",
       "      <td>6</td>\n",
       "      <td>0</td>\n",
       "      <td>54</td>\n",
       "      <td>45</td>\n",
       "      <td>16</td>\n",
       "    </tr>\n",
       "    <tr>\n",
       "      <th>19</th>\n",
       "      <td>54520</td>\n",
       "      <td>18</td>\n",
       "      <td>1</td>\n",
       "      <td>48</td>\n",
       "      <td>121</td>\n",
       "      <td>16</td>\n",
       "      <td>0</td>\n",
       "      <td>5</td>\n",
       "      <td>6</td>\n",
       "      <td>0</td>\n",
       "      <td>54</td>\n",
       "      <td>45</td>\n",
       "      <td>16</td>\n",
       "    </tr>\n",
       "    <tr>\n",
       "      <th>20</th>\n",
       "      <td>195791</td>\n",
       "      <td>3</td>\n",
       "      <td>1</td>\n",
       "      <td>16</td>\n",
       "      <td>379</td>\n",
       "      <td>16</td>\n",
       "      <td>0</td>\n",
       "      <td>5</td>\n",
       "      <td>6</td>\n",
       "      <td>0</td>\n",
       "      <td>54</td>\n",
       "      <td>45</td>\n",
       "      <td>16</td>\n",
       "    </tr>\n",
       "    <tr>\n",
       "      <th>21</th>\n",
       "      <td>90443</td>\n",
       "      <td>12</td>\n",
       "      <td>1</td>\n",
       "      <td>13</td>\n",
       "      <td>259</td>\n",
       "      <td>16</td>\n",
       "      <td>0</td>\n",
       "      <td>5</td>\n",
       "      <td>6</td>\n",
       "      <td>0</td>\n",
       "      <td>54</td>\n",
       "      <td>45</td>\n",
       "      <td>16</td>\n",
       "    </tr>\n",
       "    <tr>\n",
       "      <th>22</th>\n",
       "      <td>89117</td>\n",
       "      <td>28</td>\n",
       "      <td>1</td>\n",
       "      <td>13</td>\n",
       "      <td>135</td>\n",
       "      <td>16</td>\n",
       "      <td>0</td>\n",
       "      <td>5</td>\n",
       "      <td>6</td>\n",
       "      <td>0</td>\n",
       "      <td>54</td>\n",
       "      <td>45</td>\n",
       "      <td>16</td>\n",
       "    </tr>\n",
       "    <tr>\n",
       "      <th>23</th>\n",
       "      <td>119202</td>\n",
       "      <td>9</td>\n",
       "      <td>1</td>\n",
       "      <td>607</td>\n",
       "      <td>234</td>\n",
       "      <td>16</td>\n",
       "      <td>0</td>\n",
       "      <td>6</td>\n",
       "      <td>6</td>\n",
       "      <td>0</td>\n",
       "      <td>54</td>\n",
       "      <td>45</td>\n",
       "      <td>16</td>\n",
       "    </tr>\n",
       "    <tr>\n",
       "      <th>24</th>\n",
       "      <td>10409</td>\n",
       "      <td>3</td>\n",
       "      <td>1</td>\n",
       "      <td>6</td>\n",
       "      <td>466</td>\n",
       "      <td>16</td>\n",
       "      <td>0</td>\n",
       "      <td>6</td>\n",
       "      <td>6</td>\n",
       "      <td>0</td>\n",
       "      <td>54</td>\n",
       "      <td>45</td>\n",
       "      <td>16</td>\n",
       "    </tr>\n",
       "    <tr>\n",
       "      <th>25</th>\n",
       "      <td>103237</td>\n",
       "      <td>2</td>\n",
       "      <td>1</td>\n",
       "      <td>13</td>\n",
       "      <td>237</td>\n",
       "      <td>16</td>\n",
       "      <td>0</td>\n",
       "      <td>6</td>\n",
       "      <td>6</td>\n",
       "      <td>0</td>\n",
       "      <td>54</td>\n",
       "      <td>45</td>\n",
       "      <td>16</td>\n",
       "    </tr>\n",
       "    <tr>\n",
       "      <th>26</th>\n",
       "      <td>17728</td>\n",
       "      <td>9</td>\n",
       "      <td>1</td>\n",
       "      <td>20</td>\n",
       "      <td>134</td>\n",
       "      <td>16</td>\n",
       "      <td>0</td>\n",
       "      <td>6</td>\n",
       "      <td>6</td>\n",
       "      <td>0</td>\n",
       "      <td>54</td>\n",
       "      <td>45</td>\n",
       "      <td>16</td>\n",
       "    </tr>\n",
       "    <tr>\n",
       "      <th>27</th>\n",
       "      <td>113363</td>\n",
       "      <td>9</td>\n",
       "      <td>1</td>\n",
       "      <td>13</td>\n",
       "      <td>466</td>\n",
       "      <td>16</td>\n",
       "      <td>0</td>\n",
       "      <td>6</td>\n",
       "      <td>6</td>\n",
       "      <td>0</td>\n",
       "      <td>54</td>\n",
       "      <td>45</td>\n",
       "      <td>16</td>\n",
       "    </tr>\n",
       "    <tr>\n",
       "      <th>28</th>\n",
       "      <td>105475</td>\n",
       "      <td>11</td>\n",
       "      <td>1</td>\n",
       "      <td>25</td>\n",
       "      <td>325</td>\n",
       "      <td>16</td>\n",
       "      <td>0</td>\n",
       "      <td>7</td>\n",
       "      <td>6</td>\n",
       "      <td>0</td>\n",
       "      <td>54</td>\n",
       "      <td>45</td>\n",
       "      <td>16</td>\n",
       "    </tr>\n",
       "    <tr>\n",
       "      <th>29</th>\n",
       "      <td>52791</td>\n",
       "      <td>1</td>\n",
       "      <td>1</td>\n",
       "      <td>3</td>\n",
       "      <td>134</td>\n",
       "      <td>16</td>\n",
       "      <td>0</td>\n",
       "      <td>7</td>\n",
       "      <td>6</td>\n",
       "      <td>0</td>\n",
       "      <td>54</td>\n",
       "      <td>45</td>\n",
       "      <td>16</td>\n",
       "    </tr>\n",
       "    <tr>\n",
       "      <th>...</th>\n",
       "      <td>...</td>\n",
       "      <td>...</td>\n",
       "      <td>...</td>\n",
       "      <td>...</td>\n",
       "      <td>...</td>\n",
       "      <td>...</td>\n",
       "      <td>...</td>\n",
       "      <td>...</td>\n",
       "      <td>...</td>\n",
       "      <td>...</td>\n",
       "      <td>...</td>\n",
       "      <td>...</td>\n",
       "      <td>...</td>\n",
       "    </tr>\n",
       "    <tr>\n",
       "      <th>999970</th>\n",
       "      <td>79909</td>\n",
       "      <td>2</td>\n",
       "      <td>1</td>\n",
       "      <td>25</td>\n",
       "      <td>435</td>\n",
       "      <td>15</td>\n",
       "      <td>59</td>\n",
       "      <td>53</td>\n",
       "      <td>9</td>\n",
       "      <td>3</td>\n",
       "      <td>57</td>\n",
       "      <td>45</td>\n",
       "      <td>15</td>\n",
       "    </tr>\n",
       "    <tr>\n",
       "      <th>999971</th>\n",
       "      <td>107594</td>\n",
       "      <td>21</td>\n",
       "      <td>1</td>\n",
       "      <td>19</td>\n",
       "      <td>232</td>\n",
       "      <td>15</td>\n",
       "      <td>59</td>\n",
       "      <td>53</td>\n",
       "      <td>9</td>\n",
       "      <td>3</td>\n",
       "      <td>57</td>\n",
       "      <td>45</td>\n",
       "      <td>15</td>\n",
       "    </tr>\n",
       "    <tr>\n",
       "      <th>999972</th>\n",
       "      <td>76687</td>\n",
       "      <td>9</td>\n",
       "      <td>1</td>\n",
       "      <td>10</td>\n",
       "      <td>445</td>\n",
       "      <td>15</td>\n",
       "      <td>59</td>\n",
       "      <td>53</td>\n",
       "      <td>9</td>\n",
       "      <td>3</td>\n",
       "      <td>57</td>\n",
       "      <td>45</td>\n",
       "      <td>15</td>\n",
       "    </tr>\n",
       "    <tr>\n",
       "      <th>999973</th>\n",
       "      <td>32290</td>\n",
       "      <td>2</td>\n",
       "      <td>1</td>\n",
       "      <td>3</td>\n",
       "      <td>469</td>\n",
       "      <td>15</td>\n",
       "      <td>59</td>\n",
       "      <td>53</td>\n",
       "      <td>9</td>\n",
       "      <td>3</td>\n",
       "      <td>57</td>\n",
       "      <td>45</td>\n",
       "      <td>15</td>\n",
       "    </tr>\n",
       "    <tr>\n",
       "      <th>999974</th>\n",
       "      <td>27001</td>\n",
       "      <td>2</td>\n",
       "      <td>1</td>\n",
       "      <td>13</td>\n",
       "      <td>435</td>\n",
       "      <td>15</td>\n",
       "      <td>59</td>\n",
       "      <td>53</td>\n",
       "      <td>9</td>\n",
       "      <td>3</td>\n",
       "      <td>57</td>\n",
       "      <td>45</td>\n",
       "      <td>15</td>\n",
       "    </tr>\n",
       "    <tr>\n",
       "      <th>999975</th>\n",
       "      <td>42589</td>\n",
       "      <td>3</td>\n",
       "      <td>1</td>\n",
       "      <td>37</td>\n",
       "      <td>409</td>\n",
       "      <td>15</td>\n",
       "      <td>59</td>\n",
       "      <td>53</td>\n",
       "      <td>9</td>\n",
       "      <td>3</td>\n",
       "      <td>57</td>\n",
       "      <td>45</td>\n",
       "      <td>15</td>\n",
       "    </tr>\n",
       "    <tr>\n",
       "      <th>999976</th>\n",
       "      <td>125222</td>\n",
       "      <td>15</td>\n",
       "      <td>1</td>\n",
       "      <td>73</td>\n",
       "      <td>278</td>\n",
       "      <td>15</td>\n",
       "      <td>59</td>\n",
       "      <td>54</td>\n",
       "      <td>9</td>\n",
       "      <td>3</td>\n",
       "      <td>57</td>\n",
       "      <td>45</td>\n",
       "      <td>15</td>\n",
       "    </tr>\n",
       "    <tr>\n",
       "      <th>999977</th>\n",
       "      <td>108913</td>\n",
       "      <td>26</td>\n",
       "      <td>1</td>\n",
       "      <td>12</td>\n",
       "      <td>266</td>\n",
       "      <td>15</td>\n",
       "      <td>59</td>\n",
       "      <td>54</td>\n",
       "      <td>9</td>\n",
       "      <td>3</td>\n",
       "      <td>57</td>\n",
       "      <td>45</td>\n",
       "      <td>15</td>\n",
       "    </tr>\n",
       "    <tr>\n",
       "      <th>999978</th>\n",
       "      <td>26556</td>\n",
       "      <td>13</td>\n",
       "      <td>1</td>\n",
       "      <td>13</td>\n",
       "      <td>477</td>\n",
       "      <td>15</td>\n",
       "      <td>59</td>\n",
       "      <td>54</td>\n",
       "      <td>9</td>\n",
       "      <td>3</td>\n",
       "      <td>57</td>\n",
       "      <td>45</td>\n",
       "      <td>15</td>\n",
       "    </tr>\n",
       "    <tr>\n",
       "      <th>999979</th>\n",
       "      <td>48170</td>\n",
       "      <td>15</td>\n",
       "      <td>1</td>\n",
       "      <td>19</td>\n",
       "      <td>315</td>\n",
       "      <td>15</td>\n",
       "      <td>59</td>\n",
       "      <td>55</td>\n",
       "      <td>9</td>\n",
       "      <td>3</td>\n",
       "      <td>57</td>\n",
       "      <td>45</td>\n",
       "      <td>15</td>\n",
       "    </tr>\n",
       "    <tr>\n",
       "      <th>999980</th>\n",
       "      <td>73487</td>\n",
       "      <td>9</td>\n",
       "      <td>1</td>\n",
       "      <td>19</td>\n",
       "      <td>234</td>\n",
       "      <td>15</td>\n",
       "      <td>59</td>\n",
       "      <td>55</td>\n",
       "      <td>9</td>\n",
       "      <td>3</td>\n",
       "      <td>57</td>\n",
       "      <td>45</td>\n",
       "      <td>15</td>\n",
       "    </tr>\n",
       "    <tr>\n",
       "      <th>999981</th>\n",
       "      <td>43686</td>\n",
       "      <td>7</td>\n",
       "      <td>1</td>\n",
       "      <td>22</td>\n",
       "      <td>101</td>\n",
       "      <td>15</td>\n",
       "      <td>59</td>\n",
       "      <td>56</td>\n",
       "      <td>9</td>\n",
       "      <td>3</td>\n",
       "      <td>57</td>\n",
       "      <td>45</td>\n",
       "      <td>15</td>\n",
       "    </tr>\n",
       "    <tr>\n",
       "      <th>999982</th>\n",
       "      <td>66519</td>\n",
       "      <td>17</td>\n",
       "      <td>1</td>\n",
       "      <td>6</td>\n",
       "      <td>128</td>\n",
       "      <td>15</td>\n",
       "      <td>59</td>\n",
       "      <td>56</td>\n",
       "      <td>9</td>\n",
       "      <td>3</td>\n",
       "      <td>57</td>\n",
       "      <td>45</td>\n",
       "      <td>15</td>\n",
       "    </tr>\n",
       "    <tr>\n",
       "      <th>999983</th>\n",
       "      <td>25792</td>\n",
       "      <td>2</td>\n",
       "      <td>1</td>\n",
       "      <td>37</td>\n",
       "      <td>477</td>\n",
       "      <td>15</td>\n",
       "      <td>59</td>\n",
       "      <td>56</td>\n",
       "      <td>9</td>\n",
       "      <td>3</td>\n",
       "      <td>57</td>\n",
       "      <td>45</td>\n",
       "      <td>15</td>\n",
       "    </tr>\n",
       "    <tr>\n",
       "      <th>999984</th>\n",
       "      <td>171690</td>\n",
       "      <td>7</td>\n",
       "      <td>1</td>\n",
       "      <td>17</td>\n",
       "      <td>101</td>\n",
       "      <td>15</td>\n",
       "      <td>59</td>\n",
       "      <td>56</td>\n",
       "      <td>9</td>\n",
       "      <td>3</td>\n",
       "      <td>57</td>\n",
       "      <td>45</td>\n",
       "      <td>15</td>\n",
       "    </tr>\n",
       "    <tr>\n",
       "      <th>999985</th>\n",
       "      <td>111025</td>\n",
       "      <td>13</td>\n",
       "      <td>1</td>\n",
       "      <td>53</td>\n",
       "      <td>477</td>\n",
       "      <td>15</td>\n",
       "      <td>59</td>\n",
       "      <td>57</td>\n",
       "      <td>9</td>\n",
       "      <td>3</td>\n",
       "      <td>57</td>\n",
       "      <td>45</td>\n",
       "      <td>15</td>\n",
       "    </tr>\n",
       "    <tr>\n",
       "      <th>999986</th>\n",
       "      <td>24876</td>\n",
       "      <td>4</td>\n",
       "      <td>1</td>\n",
       "      <td>19</td>\n",
       "      <td>101</td>\n",
       "      <td>15</td>\n",
       "      <td>59</td>\n",
       "      <td>57</td>\n",
       "      <td>9</td>\n",
       "      <td>3</td>\n",
       "      <td>57</td>\n",
       "      <td>45</td>\n",
       "      <td>15</td>\n",
       "    </tr>\n",
       "    <tr>\n",
       "      <th>999987</th>\n",
       "      <td>59125</td>\n",
       "      <td>2</td>\n",
       "      <td>1</td>\n",
       "      <td>19</td>\n",
       "      <td>205</td>\n",
       "      <td>15</td>\n",
       "      <td>59</td>\n",
       "      <td>57</td>\n",
       "      <td>9</td>\n",
       "      <td>3</td>\n",
       "      <td>57</td>\n",
       "      <td>45</td>\n",
       "      <td>15</td>\n",
       "    </tr>\n",
       "    <tr>\n",
       "      <th>999988</th>\n",
       "      <td>95411</td>\n",
       "      <td>21</td>\n",
       "      <td>1</td>\n",
       "      <td>22</td>\n",
       "      <td>232</td>\n",
       "      <td>15</td>\n",
       "      <td>59</td>\n",
       "      <td>57</td>\n",
       "      <td>9</td>\n",
       "      <td>3</td>\n",
       "      <td>57</td>\n",
       "      <td>45</td>\n",
       "      <td>15</td>\n",
       "    </tr>\n",
       "    <tr>\n",
       "      <th>999989</th>\n",
       "      <td>25705</td>\n",
       "      <td>9</td>\n",
       "      <td>1</td>\n",
       "      <td>35</td>\n",
       "      <td>134</td>\n",
       "      <td>15</td>\n",
       "      <td>59</td>\n",
       "      <td>57</td>\n",
       "      <td>9</td>\n",
       "      <td>3</td>\n",
       "      <td>57</td>\n",
       "      <td>45</td>\n",
       "      <td>15</td>\n",
       "    </tr>\n",
       "    <tr>\n",
       "      <th>999990</th>\n",
       "      <td>68051</td>\n",
       "      <td>1</td>\n",
       "      <td>1</td>\n",
       "      <td>13</td>\n",
       "      <td>125</td>\n",
       "      <td>15</td>\n",
       "      <td>59</td>\n",
       "      <td>58</td>\n",
       "      <td>9</td>\n",
       "      <td>3</td>\n",
       "      <td>57</td>\n",
       "      <td>45</td>\n",
       "      <td>15</td>\n",
       "    </tr>\n",
       "    <tr>\n",
       "      <th>999991</th>\n",
       "      <td>68051</td>\n",
       "      <td>21</td>\n",
       "      <td>1</td>\n",
       "      <td>13</td>\n",
       "      <td>232</td>\n",
       "      <td>15</td>\n",
       "      <td>59</td>\n",
       "      <td>58</td>\n",
       "      <td>9</td>\n",
       "      <td>3</td>\n",
       "      <td>57</td>\n",
       "      <td>45</td>\n",
       "      <td>15</td>\n",
       "    </tr>\n",
       "    <tr>\n",
       "      <th>999992</th>\n",
       "      <td>25388</td>\n",
       "      <td>9</td>\n",
       "      <td>1</td>\n",
       "      <td>13</td>\n",
       "      <td>244</td>\n",
       "      <td>15</td>\n",
       "      <td>59</td>\n",
       "      <td>58</td>\n",
       "      <td>9</td>\n",
       "      <td>3</td>\n",
       "      <td>57</td>\n",
       "      <td>45</td>\n",
       "      <td>15</td>\n",
       "    </tr>\n",
       "    <tr>\n",
       "      <th>999993</th>\n",
       "      <td>126129</td>\n",
       "      <td>12</td>\n",
       "      <td>1</td>\n",
       "      <td>22</td>\n",
       "      <td>340</td>\n",
       "      <td>15</td>\n",
       "      <td>59</td>\n",
       "      <td>58</td>\n",
       "      <td>9</td>\n",
       "      <td>3</td>\n",
       "      <td>57</td>\n",
       "      <td>45</td>\n",
       "      <td>15</td>\n",
       "    </tr>\n",
       "    <tr>\n",
       "      <th>999994</th>\n",
       "      <td>55028</td>\n",
       "      <td>9</td>\n",
       "      <td>1</td>\n",
       "      <td>8</td>\n",
       "      <td>127</td>\n",
       "      <td>15</td>\n",
       "      <td>59</td>\n",
       "      <td>58</td>\n",
       "      <td>9</td>\n",
       "      <td>3</td>\n",
       "      <td>57</td>\n",
       "      <td>45</td>\n",
       "      <td>15</td>\n",
       "    </tr>\n",
       "    <tr>\n",
       "      <th>999995</th>\n",
       "      <td>138170</td>\n",
       "      <td>14</td>\n",
       "      <td>1</td>\n",
       "      <td>13</td>\n",
       "      <td>134</td>\n",
       "      <td>15</td>\n",
       "      <td>59</td>\n",
       "      <td>59</td>\n",
       "      <td>9</td>\n",
       "      <td>3</td>\n",
       "      <td>57</td>\n",
       "      <td>45</td>\n",
       "      <td>15</td>\n",
       "    </tr>\n",
       "    <tr>\n",
       "      <th>999996</th>\n",
       "      <td>4019</td>\n",
       "      <td>12</td>\n",
       "      <td>1</td>\n",
       "      <td>13</td>\n",
       "      <td>328</td>\n",
       "      <td>15</td>\n",
       "      <td>59</td>\n",
       "      <td>59</td>\n",
       "      <td>9</td>\n",
       "      <td>3</td>\n",
       "      <td>57</td>\n",
       "      <td>45</td>\n",
       "      <td>15</td>\n",
       "    </tr>\n",
       "    <tr>\n",
       "      <th>999997</th>\n",
       "      <td>176747</td>\n",
       "      <td>14</td>\n",
       "      <td>1</td>\n",
       "      <td>14</td>\n",
       "      <td>134</td>\n",
       "      <td>15</td>\n",
       "      <td>59</td>\n",
       "      <td>59</td>\n",
       "      <td>9</td>\n",
       "      <td>3</td>\n",
       "      <td>57</td>\n",
       "      <td>45</td>\n",
       "      <td>15</td>\n",
       "    </tr>\n",
       "    <tr>\n",
       "      <th>999998</th>\n",
       "      <td>27819</td>\n",
       "      <td>3</td>\n",
       "      <td>1</td>\n",
       "      <td>19</td>\n",
       "      <td>417</td>\n",
       "      <td>16</td>\n",
       "      <td>0</td>\n",
       "      <td>0</td>\n",
       "      <td>9</td>\n",
       "      <td>3</td>\n",
       "      <td>57</td>\n",
       "      <td>45</td>\n",
       "      <td>16</td>\n",
       "    </tr>\n",
       "    <tr>\n",
       "      <th>999999</th>\n",
       "      <td>102025</td>\n",
       "      <td>9</td>\n",
       "      <td>1</td>\n",
       "      <td>32</td>\n",
       "      <td>215</td>\n",
       "      <td>16</td>\n",
       "      <td>0</td>\n",
       "      <td>0</td>\n",
       "      <td>9</td>\n",
       "      <td>3</td>\n",
       "      <td>57</td>\n",
       "      <td>45</td>\n",
       "      <td>16</td>\n",
       "    </tr>\n",
       "  </tbody>\n",
       "</table>\n",
       "<p>1000000 rows × 13 columns</p>\n",
       "</div>"
      ],
      "text/plain": [
       "            ip  app  device   os  channel  hour  minute  second  day  dow  \\\n",
       "0        84774    3       1   19      379    15      47      52    6    0   \n",
       "1       109938    9       1   13      442    16       0       0    6    0   \n",
       "2        44663    2       1   22      477    16       0       0    6    0   \n",
       "3       182113   11       1   19      319    16       0       0    6    0   \n",
       "4       109393   20       1   32      259    16       0       1    6    0   \n",
       "5        48212    2       1   27      237    16       0       1    6    0   \n",
       "6       143872   24       1   26      105    16       0       1    6    0   \n",
       "7        76045    9       1   13      215    16       0       1    6    0   \n",
       "8       118512   24       1   40      105    16       0       1    6    0   \n",
       "9        98606   14       1    3      439    16       0       2    6    0   \n",
       "10      191053   15       1   22      379    16       0       3    6    0   \n",
       "11       73516   12       1   19      328    16       0       3    6    0   \n",
       "12       67716   12       1   13      265    16       0       3    6    0   \n",
       "13      144231   12       1   13      178    16       0       3    6    0   \n",
       "14      206873   11       1    8      173    16       0       3    6    0   \n",
       "15       40631   15       1   13      111    16       0       4    6    0   \n",
       "16       69747    2       1   13      243    16       0       4    6    0   \n",
       "17       84896   15       1   15      245    16       0       4    6    0   \n",
       "18       50131   21       1   13      128    16       0       5    6    0   \n",
       "19       54520   18       1   48      121    16       0       5    6    0   \n",
       "20      195791    3       1   16      379    16       0       5    6    0   \n",
       "21       90443   12       1   13      259    16       0       5    6    0   \n",
       "22       89117   28       1   13      135    16       0       5    6    0   \n",
       "23      119202    9       1  607      234    16       0       6    6    0   \n",
       "24       10409    3       1    6      466    16       0       6    6    0   \n",
       "25      103237    2       1   13      237    16       0       6    6    0   \n",
       "26       17728    9       1   20      134    16       0       6    6    0   \n",
       "27      113363    9       1   13      466    16       0       6    6    0   \n",
       "28      105475   11       1   25      325    16       0       7    6    0   \n",
       "29       52791    1       1    3      134    16       0       7    6    0   \n",
       "...        ...  ...     ...  ...      ...   ...     ...     ...  ...  ...   \n",
       "999970   79909    2       1   25      435    15      59      53    9    3   \n",
       "999971  107594   21       1   19      232    15      59      53    9    3   \n",
       "999972   76687    9       1   10      445    15      59      53    9    3   \n",
       "999973   32290    2       1    3      469    15      59      53    9    3   \n",
       "999974   27001    2       1   13      435    15      59      53    9    3   \n",
       "999975   42589    3       1   37      409    15      59      53    9    3   \n",
       "999976  125222   15       1   73      278    15      59      54    9    3   \n",
       "999977  108913   26       1   12      266    15      59      54    9    3   \n",
       "999978   26556   13       1   13      477    15      59      54    9    3   \n",
       "999979   48170   15       1   19      315    15      59      55    9    3   \n",
       "999980   73487    9       1   19      234    15      59      55    9    3   \n",
       "999981   43686    7       1   22      101    15      59      56    9    3   \n",
       "999982   66519   17       1    6      128    15      59      56    9    3   \n",
       "999983   25792    2       1   37      477    15      59      56    9    3   \n",
       "999984  171690    7       1   17      101    15      59      56    9    3   \n",
       "999985  111025   13       1   53      477    15      59      57    9    3   \n",
       "999986   24876    4       1   19      101    15      59      57    9    3   \n",
       "999987   59125    2       1   19      205    15      59      57    9    3   \n",
       "999988   95411   21       1   22      232    15      59      57    9    3   \n",
       "999989   25705    9       1   35      134    15      59      57    9    3   \n",
       "999990   68051    1       1   13      125    15      59      58    9    3   \n",
       "999991   68051   21       1   13      232    15      59      58    9    3   \n",
       "999992   25388    9       1   13      244    15      59      58    9    3   \n",
       "999993  126129   12       1   22      340    15      59      58    9    3   \n",
       "999994   55028    9       1    8      127    15      59      58    9    3   \n",
       "999995  138170   14       1   13      134    15      59      59    9    3   \n",
       "999996    4019   12       1   13      328    15      59      59    9    3   \n",
       "999997  176747   14       1   14      134    15      59      59    9    3   \n",
       "999998   27819    3       1   19      417    16       0       0    9    3   \n",
       "999999  102025    9       1   32      215    16       0       0    9    3   \n",
       "\n",
       "        doy  woy  click_hour  \n",
       "0        54   45          15  \n",
       "1        54   45          16  \n",
       "2        54   45          16  \n",
       "3        54   45          16  \n",
       "4        54   45          16  \n",
       "5        54   45          16  \n",
       "6        54   45          16  \n",
       "7        54   45          16  \n",
       "8        54   45          16  \n",
       "9        54   45          16  \n",
       "10       54   45          16  \n",
       "11       54   45          16  \n",
       "12       54   45          16  \n",
       "13       54   45          16  \n",
       "14       54   45          16  \n",
       "15       54   45          16  \n",
       "16       54   45          16  \n",
       "17       54   45          16  \n",
       "18       54   45          16  \n",
       "19       54   45          16  \n",
       "20       54   45          16  \n",
       "21       54   45          16  \n",
       "22       54   45          16  \n",
       "23       54   45          16  \n",
       "24       54   45          16  \n",
       "25       54   45          16  \n",
       "26       54   45          16  \n",
       "27       54   45          16  \n",
       "28       54   45          16  \n",
       "29       54   45          16  \n",
       "...     ...  ...         ...  \n",
       "999970   57   45          15  \n",
       "999971   57   45          15  \n",
       "999972   57   45          15  \n",
       "999973   57   45          15  \n",
       "999974   57   45          15  \n",
       "999975   57   45          15  \n",
       "999976   57   45          15  \n",
       "999977   57   45          15  \n",
       "999978   57   45          15  \n",
       "999979   57   45          15  \n",
       "999980   57   45          15  \n",
       "999981   57   45          15  \n",
       "999982   57   45          15  \n",
       "999983   57   45          15  \n",
       "999984   57   45          15  \n",
       "999985   57   45          15  \n",
       "999986   57   45          15  \n",
       "999987   57   45          15  \n",
       "999988   57   45          15  \n",
       "999989   57   45          15  \n",
       "999990   57   45          15  \n",
       "999991   57   45          15  \n",
       "999992   57   45          15  \n",
       "999993   57   45          15  \n",
       "999994   57   45          15  \n",
       "999995   57   45          15  \n",
       "999996   57   45          15  \n",
       "999997   57   45          15  \n",
       "999998   57   45          16  \n",
       "999999   57   45          16  \n",
       "\n",
       "[1000000 rows x 13 columns]"
      ]
     },
     "execution_count": 61,
     "metadata": {},
     "output_type": "execute_result"
    }
   ],
   "source": [
    "# Make a copy\n",
    "train_copy = train.copy()\n",
    "train.dropna()"
   ]
  },
  {
   "cell_type": "code",
   "execution_count": 62,
   "metadata": {},
   "outputs": [],
   "source": [
    "import xgboost as xgb\n",
    "from xgboost import XGBRegressor\n",
    "\n",
    "# To place it on the GPU\n",
    "xgb_reg = XGBRegressor(tree_method='gpu_hist', predictor='gpu_predictor')\n",
    "# On the CPU\n",
    "#xgb_reg = XGBRegressor()"
   ]
  },
  {
   "cell_type": "code",
   "execution_count": 63,
   "metadata": {},
   "outputs": [],
   "source": [
    "from sklearn.model_selection import RandomizedSearchCV\n",
    "\n",
    "r_xgb_reg = RandomizedSearchCV(xgb_reg, xgb_param_grid_large, n_iter=10, verbose=20)"
   ]
  },
  {
   "cell_type": "code",
   "execution_count": 64,
   "metadata": {},
   "outputs": [],
   "source": [
    "X_train, X_test, y_train, y_test = train_test_split(train,y, random_state=42)"
   ]
  },
  {
   "cell_type": "code",
   "execution_count": 65,
   "metadata": {},
   "outputs": [
    {
     "name": "stdout",
     "output_type": "stream",
     "text": [
      "Fitting 3 folds for each of 10 candidates, totalling 30 fits\n",
      "[CV] subsample=0.6, reg_lambda=1, n_estimators=500, min_child_weight=10, max_depth=6, learning_rate=0.05, gamma=1.0, colsample_bytree=0.5 \n"
     ]
    },
    {
     "name": "stderr",
     "output_type": "stream",
     "text": [
      "[Parallel(n_jobs=1)]: Using backend SequentialBackend with 1 concurrent workers.\n"
     ]
    },
    {
     "name": "stdout",
     "output_type": "stream",
     "text": [
      "[CV]  subsample=0.6, reg_lambda=1, n_estimators=500, min_child_weight=10, max_depth=6, learning_rate=0.05, gamma=1.0, colsample_bytree=0.5, score=0.3175961110102524, total=   5.1s\n",
      "[CV] subsample=0.6, reg_lambda=1, n_estimators=500, min_child_weight=10, max_depth=6, learning_rate=0.05, gamma=1.0, colsample_bytree=0.5 \n"
     ]
    },
    {
     "name": "stderr",
     "output_type": "stream",
     "text": [
      "[Parallel(n_jobs=1)]: Done   1 out of   1 | elapsed:    5.3s remaining:    0.0s\n"
     ]
    },
    {
     "name": "stdout",
     "output_type": "stream",
     "text": [
      "[CV]  subsample=0.6, reg_lambda=1, n_estimators=500, min_child_weight=10, max_depth=6, learning_rate=0.05, gamma=1.0, colsample_bytree=0.5, score=0.31246056620912555, total=   4.5s\n",
      "[CV] subsample=0.6, reg_lambda=1, n_estimators=500, min_child_weight=10, max_depth=6, learning_rate=0.05, gamma=1.0, colsample_bytree=0.5 \n"
     ]
    },
    {
     "name": "stderr",
     "output_type": "stream",
     "text": [
      "[Parallel(n_jobs=1)]: Done   2 out of   2 | elapsed:    9.9s remaining:    0.0s\n"
     ]
    },
    {
     "name": "stdout",
     "output_type": "stream",
     "text": [
      "[CV]  subsample=0.6, reg_lambda=1, n_estimators=500, min_child_weight=10, max_depth=6, learning_rate=0.05, gamma=1.0, colsample_bytree=0.5, score=0.308047986593624, total=   4.5s\n",
      "[CV] subsample=0.6, reg_lambda=1, n_estimators=500, min_child_weight=1, max_depth=8, learning_rate=0.05, gamma=0.0, colsample_bytree=0.8 \n"
     ]
    },
    {
     "name": "stderr",
     "output_type": "stream",
     "text": [
      "[Parallel(n_jobs=1)]: Done   3 out of   3 | elapsed:   14.7s remaining:    0.0s\n"
     ]
    },
    {
     "name": "stdout",
     "output_type": "stream",
     "text": [
      "[CV]  subsample=0.6, reg_lambda=1, n_estimators=500, min_child_weight=1, max_depth=8, learning_rate=0.05, gamma=0.0, colsample_bytree=0.8, score=0.30305850834041204, total=   9.0s\n",
      "[CV] subsample=0.6, reg_lambda=1, n_estimators=500, min_child_weight=1, max_depth=8, learning_rate=0.05, gamma=0.0, colsample_bytree=0.8 \n"
     ]
    },
    {
     "name": "stderr",
     "output_type": "stream",
     "text": [
      "[Parallel(n_jobs=1)]: Done   4 out of   4 | elapsed:   23.9s remaining:    0.0s\n"
     ]
    },
    {
     "name": "stdout",
     "output_type": "stream",
     "text": [
      "[CV]  subsample=0.6, reg_lambda=1, n_estimators=500, min_child_weight=1, max_depth=8, learning_rate=0.05, gamma=0.0, colsample_bytree=0.8, score=0.3084549139519426, total=   9.2s\n",
      "[CV] subsample=0.6, reg_lambda=1, n_estimators=500, min_child_weight=1, max_depth=8, learning_rate=0.05, gamma=0.0, colsample_bytree=0.8 \n"
     ]
    },
    {
     "name": "stderr",
     "output_type": "stream",
     "text": [
      "[Parallel(n_jobs=1)]: Done   5 out of   5 | elapsed:   33.3s remaining:    0.0s\n"
     ]
    },
    {
     "name": "stdout",
     "output_type": "stream",
     "text": [
      "[CV]  subsample=0.6, reg_lambda=1, n_estimators=500, min_child_weight=1, max_depth=8, learning_rate=0.05, gamma=0.0, colsample_bytree=0.8, score=0.29992564392205845, total=   9.8s\n",
      "[CV] subsample=0.6, reg_lambda=1, n_estimators=500, min_child_weight=10, max_depth=3, learning_rate=0.05, gamma=1.5, colsample_bytree=0.6 \n"
     ]
    },
    {
     "name": "stderr",
     "output_type": "stream",
     "text": [
      "[Parallel(n_jobs=1)]: Done   6 out of   6 | elapsed:   43.4s remaining:    0.0s\n"
     ]
    },
    {
     "name": "stdout",
     "output_type": "stream",
     "text": [
      "[CV]  subsample=0.6, reg_lambda=1, n_estimators=500, min_child_weight=10, max_depth=3, learning_rate=0.05, gamma=1.5, colsample_bytree=0.6, score=0.2783010817098086, total=   2.8s\n",
      "[CV] subsample=0.6, reg_lambda=1, n_estimators=500, min_child_weight=10, max_depth=3, learning_rate=0.05, gamma=1.5, colsample_bytree=0.6 \n"
     ]
    },
    {
     "name": "stderr",
     "output_type": "stream",
     "text": [
      "[Parallel(n_jobs=1)]: Done   7 out of   7 | elapsed:   46.4s remaining:    0.0s\n"
     ]
    },
    {
     "name": "stdout",
     "output_type": "stream",
     "text": [
      "[CV]  subsample=0.6, reg_lambda=1, n_estimators=500, min_child_weight=10, max_depth=3, learning_rate=0.05, gamma=1.5, colsample_bytree=0.6, score=0.2722246006026722, total=   2.8s\n",
      "[CV] subsample=0.6, reg_lambda=1, n_estimators=500, min_child_weight=10, max_depth=3, learning_rate=0.05, gamma=1.5, colsample_bytree=0.6 \n"
     ]
    },
    {
     "name": "stderr",
     "output_type": "stream",
     "text": [
      "[Parallel(n_jobs=1)]: Done   8 out of   8 | elapsed:   49.3s remaining:    0.0s\n"
     ]
    },
    {
     "name": "stdout",
     "output_type": "stream",
     "text": [
      "[CV]  subsample=0.6, reg_lambda=1, n_estimators=500, min_child_weight=10, max_depth=3, learning_rate=0.05, gamma=1.5, colsample_bytree=0.6, score=0.27437002616861883, total=   2.6s\n",
      "[CV] subsample=0.6, reg_lambda=1, n_estimators=100, min_child_weight=5, max_depth=6, learning_rate=0.2, gamma=0.0, colsample_bytree=0.5 \n"
     ]
    },
    {
     "name": "stderr",
     "output_type": "stream",
     "text": [
      "[Parallel(n_jobs=1)]: Done   9 out of   9 | elapsed:   52.1s remaining:    0.0s\n"
     ]
    },
    {
     "name": "stdout",
     "output_type": "stream",
     "text": [
      "[CV]  subsample=0.6, reg_lambda=1, n_estimators=100, min_child_weight=5, max_depth=6, learning_rate=0.2, gamma=0.0, colsample_bytree=0.5, score=0.31402542791889176, total=   1.2s\n",
      "[CV] subsample=0.6, reg_lambda=1, n_estimators=100, min_child_weight=5, max_depth=6, learning_rate=0.2, gamma=0.0, colsample_bytree=0.5 \n"
     ]
    },
    {
     "name": "stderr",
     "output_type": "stream",
     "text": [
      "[Parallel(n_jobs=1)]: Done  10 out of  10 | elapsed:   53.5s remaining:    0.0s\n"
     ]
    },
    {
     "name": "stdout",
     "output_type": "stream",
     "text": [
      "[CV]  subsample=0.6, reg_lambda=1, n_estimators=100, min_child_weight=5, max_depth=6, learning_rate=0.2, gamma=0.0, colsample_bytree=0.5, score=0.30059249311063463, total=   1.2s\n",
      "[CV] subsample=0.6, reg_lambda=1, n_estimators=100, min_child_weight=5, max_depth=6, learning_rate=0.2, gamma=0.0, colsample_bytree=0.5 \n"
     ]
    },
    {
     "name": "stderr",
     "output_type": "stream",
     "text": [
      "[Parallel(n_jobs=1)]: Done  11 out of  11 | elapsed:   54.9s remaining:    0.0s\n"
     ]
    },
    {
     "name": "stdout",
     "output_type": "stream",
     "text": [
      "[CV]  subsample=0.6, reg_lambda=1, n_estimators=100, min_child_weight=5, max_depth=6, learning_rate=0.2, gamma=0.0, colsample_bytree=0.5, score=0.2947464432248931, total=   1.2s\n",
      "[CV] subsample=0.6, reg_lambda=1, n_estimators=100, min_child_weight=5, max_depth=3, learning_rate=0.2, gamma=1.0, colsample_bytree=0.8 \n"
     ]
    },
    {
     "name": "stderr",
     "output_type": "stream",
     "text": [
      "[Parallel(n_jobs=1)]: Done  12 out of  12 | elapsed:   56.2s remaining:    0.0s\n"
     ]
    },
    {
     "name": "stdout",
     "output_type": "stream",
     "text": [
      "[CV]  subsample=0.6, reg_lambda=1, n_estimators=100, min_child_weight=5, max_depth=3, learning_rate=0.2, gamma=1.0, colsample_bytree=0.8, score=0.2625485420169701, total=   0.9s\n",
      "[CV] subsample=0.6, reg_lambda=1, n_estimators=100, min_child_weight=5, max_depth=3, learning_rate=0.2, gamma=1.0, colsample_bytree=0.8 \n"
     ]
    },
    {
     "name": "stderr",
     "output_type": "stream",
     "text": [
      "[Parallel(n_jobs=1)]: Done  13 out of  13 | elapsed:   57.2s remaining:    0.0s\n"
     ]
    },
    {
     "name": "stdout",
     "output_type": "stream",
     "text": [
      "[CV]  subsample=0.6, reg_lambda=1, n_estimators=100, min_child_weight=5, max_depth=3, learning_rate=0.2, gamma=1.0, colsample_bytree=0.8, score=0.26465377146185387, total=   0.8s\n",
      "[CV] subsample=0.6, reg_lambda=1, n_estimators=100, min_child_weight=5, max_depth=3, learning_rate=0.2, gamma=1.0, colsample_bytree=0.8 \n"
     ]
    },
    {
     "name": "stderr",
     "output_type": "stream",
     "text": [
      "[Parallel(n_jobs=1)]: Done  14 out of  14 | elapsed:   58.2s remaining:    0.0s\n"
     ]
    },
    {
     "name": "stdout",
     "output_type": "stream",
     "text": [
      "[CV]  subsample=0.6, reg_lambda=1, n_estimators=100, min_child_weight=5, max_depth=3, learning_rate=0.2, gamma=1.0, colsample_bytree=0.8, score=0.25214442163050577, total=   0.8s\n",
      "[CV] subsample=0.6, reg_lambda=1, n_estimators=500, min_child_weight=5, max_depth=10, learning_rate=0.2, gamma=1.5, colsample_bytree=0.6 \n"
     ]
    },
    {
     "name": "stderr",
     "output_type": "stream",
     "text": [
      "[Parallel(n_jobs=1)]: Done  15 out of  15 | elapsed:   59.2s remaining:    0.0s\n"
     ]
    },
    {
     "name": "stdout",
     "output_type": "stream",
     "text": [
      "[CV]  subsample=0.6, reg_lambda=1, n_estimators=500, min_child_weight=5, max_depth=10, learning_rate=0.2, gamma=1.5, colsample_bytree=0.6, score=0.17825591370742455, total=  18.9s\n",
      "[CV] subsample=0.6, reg_lambda=1, n_estimators=500, min_child_weight=5, max_depth=10, learning_rate=0.2, gamma=1.5, colsample_bytree=0.6 \n"
     ]
    },
    {
     "name": "stderr",
     "output_type": "stream",
     "text": [
      "[Parallel(n_jobs=1)]: Done  16 out of  16 | elapsed:  1.3min remaining:    0.0s\n"
     ]
    },
    {
     "name": "stdout",
     "output_type": "stream",
     "text": [
      "[CV]  subsample=0.6, reg_lambda=1, n_estimators=500, min_child_weight=5, max_depth=10, learning_rate=0.2, gamma=1.5, colsample_bytree=0.6, score=0.1840948536751027, total=  19.5s\n",
      "[CV] subsample=0.6, reg_lambda=1, n_estimators=500, min_child_weight=5, max_depth=10, learning_rate=0.2, gamma=1.5, colsample_bytree=0.6 \n"
     ]
    },
    {
     "name": "stderr",
     "output_type": "stream",
     "text": [
      "[Parallel(n_jobs=1)]: Done  17 out of  17 | elapsed:  1.6min remaining:    0.0s\n"
     ]
    },
    {
     "name": "stdout",
     "output_type": "stream",
     "text": [
      "[CV]  subsample=0.6, reg_lambda=1, n_estimators=500, min_child_weight=5, max_depth=10, learning_rate=0.2, gamma=1.5, colsample_bytree=0.6, score=0.19353221719212554, total=  20.6s\n",
      "[CV] subsample=1.0, reg_lambda=1, n_estimators=100, min_child_weight=1, max_depth=7, learning_rate=0.05, gamma=1.5, colsample_bytree=0.6 \n"
     ]
    },
    {
     "name": "stderr",
     "output_type": "stream",
     "text": [
      "[Parallel(n_jobs=1)]: Done  18 out of  18 | elapsed:  2.0min remaining:    0.0s\n"
     ]
    },
    {
     "name": "stdout",
     "output_type": "stream",
     "text": [
      "[CV]  subsample=1.0, reg_lambda=1, n_estimators=100, min_child_weight=1, max_depth=7, learning_rate=0.05, gamma=1.5, colsample_bytree=0.6, score=0.32392729299954026, total=   1.9s\n",
      "[CV] subsample=1.0, reg_lambda=1, n_estimators=100, min_child_weight=1, max_depth=7, learning_rate=0.05, gamma=1.5, colsample_bytree=0.6 \n"
     ]
    },
    {
     "name": "stderr",
     "output_type": "stream",
     "text": [
      "[Parallel(n_jobs=1)]: Done  19 out of  19 | elapsed:  2.0min remaining:    0.0s\n"
     ]
    },
    {
     "name": "stdout",
     "output_type": "stream",
     "text": [
      "[CV]  subsample=1.0, reg_lambda=1, n_estimators=100, min_child_weight=1, max_depth=7, learning_rate=0.05, gamma=1.5, colsample_bytree=0.6, score=0.32246004160813424, total=   1.7s\n",
      "[CV] subsample=1.0, reg_lambda=1, n_estimators=100, min_child_weight=1, max_depth=7, learning_rate=0.05, gamma=1.5, colsample_bytree=0.6 \n",
      "[CV]  subsample=1.0, reg_lambda=1, n_estimators=100, min_child_weight=1, max_depth=7, learning_rate=0.05, gamma=1.5, colsample_bytree=0.6, score=0.3173593935960337, total=   1.5s\n",
      "[CV] subsample=1.0, reg_lambda=1, n_estimators=600, min_child_weight=5, max_depth=4, learning_rate=0.1, gamma=1.5, colsample_bytree=0.6 \n",
      "[CV]  subsample=1.0, reg_lambda=1, n_estimators=600, min_child_weight=5, max_depth=4, learning_rate=0.1, gamma=1.5, colsample_bytree=0.6, score=0.3276401205791698, total=   3.8s\n",
      "[CV] subsample=1.0, reg_lambda=1, n_estimators=600, min_child_weight=5, max_depth=4, learning_rate=0.1, gamma=1.5, colsample_bytree=0.6 \n",
      "[CV]  subsample=1.0, reg_lambda=1, n_estimators=600, min_child_weight=5, max_depth=4, learning_rate=0.1, gamma=1.5, colsample_bytree=0.6, score=0.3215827466042026, total=   4.0s\n",
      "[CV] subsample=1.0, reg_lambda=1, n_estimators=600, min_child_weight=5, max_depth=4, learning_rate=0.1, gamma=1.5, colsample_bytree=0.6 \n",
      "[CV]  subsample=1.0, reg_lambda=1, n_estimators=600, min_child_weight=5, max_depth=4, learning_rate=0.1, gamma=1.5, colsample_bytree=0.6, score=0.31936747248633646, total=   4.0s\n",
      "[CV] subsample=0.6, reg_lambda=1, n_estimators=100, min_child_weight=5, max_depth=8, learning_rate=0.1, gamma=0.0, colsample_bytree=0.5 \n",
      "[CV]  subsample=0.6, reg_lambda=1, n_estimators=100, min_child_weight=5, max_depth=8, learning_rate=0.1, gamma=0.0, colsample_bytree=0.5, score=0.326425701473527, total=   1.9s\n",
      "[CV] subsample=0.6, reg_lambda=1, n_estimators=100, min_child_weight=5, max_depth=8, learning_rate=0.1, gamma=0.0, colsample_bytree=0.5 \n",
      "[CV]  subsample=0.6, reg_lambda=1, n_estimators=100, min_child_weight=5, max_depth=8, learning_rate=0.1, gamma=0.0, colsample_bytree=0.5, score=0.321220586318988, total=   1.8s\n",
      "[CV] subsample=0.6, reg_lambda=1, n_estimators=100, min_child_weight=5, max_depth=8, learning_rate=0.1, gamma=0.0, colsample_bytree=0.5 \n",
      "[CV]  subsample=0.6, reg_lambda=1, n_estimators=100, min_child_weight=5, max_depth=8, learning_rate=0.1, gamma=0.0, colsample_bytree=0.5, score=0.31238891746231867, total=   1.8s\n",
      "[CV] subsample=1.0, reg_lambda=1, n_estimators=500, min_child_weight=1, max_depth=9, learning_rate=0.2, gamma=1.5, colsample_bytree=0.5 \n",
      "[CV]  subsample=1.0, reg_lambda=1, n_estimators=500, min_child_weight=1, max_depth=9, learning_rate=0.2, gamma=1.5, colsample_bytree=0.5, score=0.26050619550855636, total=  15.9s\n",
      "[CV] subsample=1.0, reg_lambda=1, n_estimators=500, min_child_weight=1, max_depth=9, learning_rate=0.2, gamma=1.5, colsample_bytree=0.5 \n",
      "[CV]  subsample=1.0, reg_lambda=1, n_estimators=500, min_child_weight=1, max_depth=9, learning_rate=0.2, gamma=1.5, colsample_bytree=0.5, score=0.25195618451593715, total=  17.7s\n",
      "[CV] subsample=1.0, reg_lambda=1, n_estimators=500, min_child_weight=1, max_depth=9, learning_rate=0.2, gamma=1.5, colsample_bytree=0.5 \n",
      "[CV]  subsample=1.0, reg_lambda=1, n_estimators=500, min_child_weight=1, max_depth=9, learning_rate=0.2, gamma=1.5, colsample_bytree=0.5, score=0.24481345615046202, total=  17.9s\n"
     ]
    },
    {
     "name": "stderr",
     "output_type": "stream",
     "text": [
      "[Parallel(n_jobs=1)]: Done  30 out of  30 | elapsed:  3.3min finished\n"
     ]
    },
    {
     "data": {
      "text/plain": [
       "RandomizedSearchCV(cv='warn', error_score='raise-deprecating',\n",
       "          estimator=XGBRegressor(base_score=0.5, booster='gbtree', colsample_bylevel=1,\n",
       "       colsample_bytree=1, gamma=0, learning_rate=0.1, max_delta_step=0,\n",
       "       max_depth=3, min_child_weight=1, missing=None, n_estimators=100,\n",
       "       n_jobs=1, nthread=None, objective='reg:linear',\n",
       "       predictor='gpu_predictor', random_state=0, reg_alpha=0,\n",
       "       reg_lambda=1, scale_pos_weight=1, seed=None, silent=True,\n",
       "       subsample=1, tree_method='gpu_hist'),\n",
       "          fit_params=None, iid='warn', n_iter=10, n_jobs=None,\n",
       "          param_distributions={'learning_rate': [0.1, 0.05, 0.2], 'n_estimators': [50, 100, 500, 600], 'min_child_weight': [1, 5, 10], 'gamma': [0.0, 1.0, 1.5], 'subsample': [0.6, 1.0], 'colsample_bytree': [0.5, 0.6, 0.8], 'max_depth': [3, 4, 5, 6, 7, 8, 9, 10], 'reg_lambda': [1]},\n",
       "          pre_dispatch='2*n_jobs', random_state=None, refit=True,\n",
       "          return_train_score='warn', scoring=None, verbose=20)"
      ]
     },
     "execution_count": 65,
     "metadata": {},
     "output_type": "execute_result"
    }
   ],
   "source": [
    "r_xgb_reg.fit(X_train, y_train)"
   ]
  },
  {
   "cell_type": "code",
   "execution_count": 66,
   "metadata": {},
   "outputs": [
    {
     "data": {
      "text/plain": [
       "XGBRegressor(base_score=0.5, booster='gbtree', colsample_bylevel=1,\n",
       "       colsample_bytree=0.6, gamma=1.5, learning_rate=0.1,\n",
       "       max_delta_step=0, max_depth=4, min_child_weight=5, missing=None,\n",
       "       n_estimators=600, n_jobs=1, nthread=None, objective='reg:linear',\n",
       "       predictor='gpu_predictor', random_state=0, reg_alpha=0,\n",
       "       reg_lambda=1, scale_pos_weight=1, seed=None, silent=True,\n",
       "       subsample=1.0, tree_method='gpu_hist')"
      ]
     },
     "execution_count": 66,
     "metadata": {},
     "output_type": "execute_result"
    }
   ],
   "source": [
    "r_xgb_reg.best_estimator_"
   ]
  },
  {
   "cell_type": "code",
   "execution_count": 67,
   "metadata": {},
   "outputs": [
    {
     "data": {
      "text/plain": [
       "0.3282111827760953"
      ]
     },
     "execution_count": 67,
     "metadata": {},
     "output_type": "execute_result"
    }
   ],
   "source": [
    "r_xgb_reg.score(X_test, y_test)"
   ]
  },
  {
   "cell_type": "code",
   "execution_count": 68,
   "metadata": {},
   "outputs": [],
   "source": [
    "xgb_reg = r_xgb_reg.best_estimator_"
   ]
  },
  {
   "cell_type": "code",
   "execution_count": 69,
   "metadata": {},
   "outputs": [],
   "source": [
    "xgb_reg.save_model('rndsearchcv_xgb_reg.model')"
   ]
  },
  {
   "cell_type": "code",
   "execution_count": 80,
   "metadata": {},
   "outputs": [],
   "source": [
    "model = xgb.Booster({'nthread': 8})  # init model\n",
    "model.load_model('rndsearchcv_xgb_reg.model')  # load data"
   ]
  },
  {
   "cell_type": "code",
   "execution_count": 81,
   "metadata": {},
   "outputs": [],
   "source": [
    "sub['is_attributed'] = model.predict(xgtest)\n",
    "sub.to_csv('sub_xgb_reg.csv',index=False)"
   ]
  },
  {
   "cell_type": "code",
   "execution_count": 82,
   "metadata": {},
   "outputs": [
    {
     "data": {
      "text/plain": [
       "<matplotlib.axes._subplots.AxesSubplot at 0x7fcccb5a9828>"
      ]
     },
     "execution_count": 82,
     "metadata": {},
     "output_type": "execute_result"
    },
    {
     "data": {
      "image/png": "[encoded data removed]",
      "text/plain": [
       "<Figure size 1440x504 with 1 Axes>"
      ]
     },
     "metadata": {
      "needs_background": "light"
     },
     "output_type": "display_data"
    }
   ],
   "source": [
    "from xgboost import plot_importance\n",
    "\n",
    "fig, ax = plt.subplots(figsize=(20, 7))\n",
    "plot_importance(model, ax=ax, height=0.4)"
   ]
  },
  {
   "cell_type": "markdown",
   "metadata": {},
   "source": [
    "## The second model using XGBClassifier"
   ]
  },
  {
   "cell_type": "code",
   "execution_count": 84,
   "metadata": {},
   "outputs": [
    {
     "data": {
      "text/plain": [
       "XGBClassifier(base_score=0.5, booster='gbtree', colsample_bylevel=0.7,\n",
       "       colsample_bytree=0.7, gamma=0, learning_rate=0.1, max_delta_step=0,\n",
       "       max_depth=4, min_child_weight=0, missing=None, n_estimators=400,\n",
       "       n_jobs=1, nthread=None, objective='binary:logistic',\n",
       "       predictor='gpu_predictor', random_state=0, reg_alpha=4,\n",
       "       reg_lambda=1, scale_pos_weight=9, seed=None, silent=True,\n",
       "       subsample=0.8, tree_method='gpu_exact')"
      ]
     },
     "execution_count": 84,
     "metadata": {},
     "output_type": "execute_result"
    }
   ],
   "source": [
    "import xgboost as xgb\n",
    "\n",
    "# Create a model\n",
    "# Params from: https://www.kaggle.com/aharless/swetha-s-xgboost-revised\n",
    "\n",
    "params = { \n",
    "    \"n_estimators\": 400,\n",
    "    \"tree_method\":'gpu_exact',\n",
    "    \"predictor\":'gpu_predictor',\n",
    "    \"max_depth\": 4,\n",
    "    \"subsample\": 0.8,\n",
    "    \"colsample_bytree\": 0.7,\n",
    "    \"colsample_bylevel\": 0.7,\n",
    "    \"scale_pos_weight\": 9,\n",
    "    \"min_child_weight\": 0,\n",
    "    \"reg_alpha\": 4,\n",
    "    \"objective\": 'binary:logistic'\n",
    "}\n",
    "\n",
    "clf_xgBoost = xgb.XGBClassifier(**params)\n",
    "# Fit the models\n",
    "clf_xgBoost.fit(X_train, y_train)"
   ]
  },
  {
   "cell_type": "code",
   "execution_count": 85,
   "metadata": {},
   "outputs": [],
   "source": [
    "clf_xgBoost.save_model('cfl_xgboost_1.model')"
   ]
  },
  {
   "cell_type": "code",
   "execution_count": 92,
   "metadata": {},
   "outputs": [],
   "source": [
    "model = xgb.Booster({'nthread': 8})  # init model\n",
    "model.load_model('cfl_xgboost_1.model')  # load data"
   ]
  },
  {
   "cell_type": "code",
   "execution_count": 97,
   "metadata": {},
   "outputs": [],
   "source": [
    "sub['is_attributed'] = model.predict(xgtest)\n",
    "sub.to_csv('sub_clf_xgboost_1.csv',index=False)"
   ]
  },
  {
   "cell_type": "code",
   "execution_count": 98,
   "metadata": {},
   "outputs": [
    {
     "data": {
      "text/plain": [
       "<matplotlib.axes._subplots.AxesSubplot at 0x7fccd96f02b0>"
      ]
     },
     "execution_count": 98,
     "metadata": {},
     "output_type": "execute_result"
    },
    {
     "data": {
      "image/png": "[encoded data removed]",
      "text/plain": [
       "<Figure size 1440x504 with 1 Axes>"
      ]
     },
     "metadata": {
      "needs_background": "light"
     },
     "output_type": "display_data"
    }
   ],
   "source": [
    "from xgboost import plot_importance\n",
    "\n",
    "fig, ax = plt.subplots(figsize=(20, 7))\n",
    "plot_importance(clf_xgBoost, ax=ax, height=0.4)"
   ]
  },
  {
   "cell_type": "markdown",
   "metadata": {},
   "source": [
    "## The third modell using XGBClassifier with Early Stopping"
   ]
  },
  {
   "cell_type": "code",
   "execution_count": 112,
   "metadata": {},
   "outputs": [
    {
     "name": "stdout",
     "output_type": "stream",
     "text": [
      "[0]\ttrain-auc:0.852404\tvalid-auc:0.858094\n",
      "Multiple eval metrics have been passed: 'valid-auc' will be used for early stopping.\n",
      "\n",
      "Will train until valid-auc hasn't improved in 50 rounds.\n",
      "[10]\ttrain-auc:0.927931\tvalid-auc:0.929106\n",
      "[20]\ttrain-auc:0.95647\tvalid-auc:0.946367\n",
      "[30]\ttrain-auc:0.963366\tvalid-auc:0.94927\n",
      "[40]\ttrain-auc:0.967627\tvalid-auc:0.948857\n",
      "[50]\ttrain-auc:0.972197\tvalid-auc:0.949616\n",
      "[60]\ttrain-auc:0.974913\tvalid-auc:0.95141\n",
      "[70]\ttrain-auc:0.976921\tvalid-auc:0.951064\n",
      "[80]\ttrain-auc:0.97885\tvalid-auc:0.952247\n",
      "[90]\ttrain-auc:0.980923\tvalid-auc:0.952058\n",
      "[100]\ttrain-auc:0.982328\tvalid-auc:0.951581\n",
      "[110]\ttrain-auc:0.983895\tvalid-auc:0.950013\n",
      "[120]\ttrain-auc:0.985206\tvalid-auc:0.949658\n",
      "Stopping. Best iteration:\n",
      "[74]\ttrain-auc:0.977678\tvalid-auc:0.952861\n",
      "\n"
     ]
    }
   ],
   "source": [
    "params = {\n",
    "    'eta': 0.3,\n",
    "    'max_depth': 4, \n",
    "    'subsample': 0.8, \n",
    "    'colsample_bytree': 0.7, \n",
    "    'colsample_bylevel':0.7,\n",
    "    'min_child_weight':0,\n",
    "    'alpha':4,\n",
    "    'objective': 'binary:logistic', \n",
    "    'scale_pos_weight':9,\n",
    "    'eval_metric': 'auc', \n",
    "    'random_state': 99, \n",
    "    'silent': True,\n",
    "    \"tree_method\":'gpu_hist',\n",
    "    \"predictor\":'gpu_predictor',\n",
    "}\n",
    "          \n",
    "X_train, X_test, y_train, y_test = train_test_split(train, y, test_size=0.1, random_state=99)\n",
    "\n",
    "watchlist = [(xgb.DMatrix(X_train, y_train), 'train'), (xgb.DMatrix(X_test, y_test), 'valid')]\n",
    "\n",
    "model = xgb.train(params, xgb.DMatrix(X_train, y_train), 300, watchlist, maximize=True, early_stopping_rounds = 50, verbose_eval=10)"
   ]
  },
  {
   "cell_type": "code",
   "execution_count": 121,
   "metadata": {},
   "outputs": [],
   "source": [
    "sub['is_attributed'] = model.predict(xgtest)\n",
    "sub.to_csv('sub_clf_xgboost_2.csv',index=False)"
   ]
  },
  {
   "cell_type": "code",
   "execution_count": 114,
   "metadata": {},
   "outputs": [
    {
     "data": {
      "text/plain": [
       "{'os': 157,\n",
       " 'channel': 336,\n",
       " 'ip': 298,\n",
       " 'app': 351,\n",
       " 'hour': 112,\n",
       " 'device': 88,\n",
       " 'second': 136,\n",
       " 'click_hour': 91,\n",
       " 'minute': 158,\n",
       " 'dow': 28,\n",
       " 'doy': 11,\n",
       " 'day': 44}"
      ]
     },
     "execution_count": 114,
     "metadata": {},
     "output_type": "execute_result"
    }
   ],
   "source": [
    "model.get_score()"
   ]
  },
  {
   "cell_type": "code",
   "execution_count": 115,
   "metadata": {},
   "outputs": [
    {
     "data": {
      "text/plain": [
       "0.952861"
      ]
     },
     "execution_count": 115,
     "metadata": {},
     "output_type": "execute_result"
    }
   ],
   "source": [
    "model.best_score"
   ]
  },
  {
   "cell_type": "code",
   "execution_count": 116,
   "metadata": {},
   "outputs": [],
   "source": [
    "model.save_model('sub_clf_xgboost_2.model')"
   ]
  },
  {
   "cell_type": "code",
   "execution_count": 117,
   "metadata": {},
   "outputs": [],
   "source": [
    "model = xgb.Booster({'nthread': 8})  # init model\n",
    "model.load_model('sub_clf_xgboost_2.model')  # load data"
   ]
  },
  {
   "cell_type": "code",
   "execution_count": 119,
   "metadata": {},
   "outputs": [
    {
     "data": {
      "text/plain": [
       "<matplotlib.axes._subplots.AxesSubplot at 0x7fccd945e438>"
      ]
     },
     "execution_count": 119,
     "metadata": {},
     "output_type": "execute_result"
    },
    {
     "data": {
      "image/png": "[encoded data removed]",
      "text/plain": [
       "<Figure size 1440x504 with 1 Axes>"
      ]
     },
     "metadata": {
      "needs_background": "light"
     },
     "output_type": "display_data"
    }
   ],
   "source": [
    "from xgboost import plot_importance\n",
    "\n",
    "fig, ax = plt.subplots(figsize=(20, 7))\n",
    "plot_importance(model, ax=ax, height=0.4)"
   ]
  },
  {
   "cell_type": "code",
   "execution_count": null,
   "metadata": {},
   "outputs": [],
   "source": []
  }
 ],
 "metadata": {
  "kernelspec": {
   "display_name": "Python 3",
   "language": "python",
   "name": "python3"
  },
  "language_info": {
   "codemirror_mode": {
    "name": "ipython",
    "version": 3
   },
   "file_extension": ".py",
   "mimetype": "text/x-python",
   "name": "python",
   "nbconvert_exporter": "python",
   "pygments_lexer": "ipython3",
   "version": "3.6.6"
  },
  "toc": {
   "base_numbering": 1,
   "nav_menu": {},
   "number_sections": true,
   "sideBar": true,
   "skip_h1_title": false,
   "title_cell": "Table of Contents",
   "title_sidebar": "Contents",
   "toc_cell": false,
   "toc_position": {},
   "toc_section_display": true,
   "toc_window_display": true
  }
 },
 "nbformat": 4,
 "nbformat_minor": 2
}
